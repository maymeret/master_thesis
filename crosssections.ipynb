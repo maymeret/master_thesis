{
 "cells": [
  {
   "cell_type": "code",
   "execution_count": 13,
   "id": "1f450f7d-04a8-4e80-8ab4-a368e30a4559",
   "metadata": {},
   "outputs": [],
   "source": [
    "import matplotlib.pyplot as plt\n",
    "import numpy as np\n",
    "from netCDF4 import Dataset\n",
    "import matplotlib as mpl\n",
    "import matplotlib.tri as tri\n",
    "import datetime \n",
    "import time\n",
    "#import netcdftime\n",
    "import sys\n",
    "import glob\n",
    "import pandas as pd\n",
    "from matplotlib.colors import LinearSegmentedColormap\n",
    "import os\n",
    "from scipy.interpolate import griddata\n",
    "import csv\n",
    "#from mpl_toolkits.basemap import Basemap\n",
    "from scipy import interpolate\n",
    "import xarray as xr"
   ]
  },
  {
   "cell_type": "markdown",
   "id": "73ee1203-92d5-40fc-84f4-0b9c8138ff1c",
   "metadata": {},
   "source": [
    "This script is adapted from Arianna Valmassoi, credits go to her."
   ]
  },
  {
   "cell_type": "code",
   "execution_count": 14,
   "id": "959ce722-1008-4eac-aabe-8a9979884e28",
   "metadata": {},
   "outputs": [],
   "source": [
    "#define a color map for the plot later\n",
    "\n",
    "colors_orig = [ (103,0,31),(178,24,43),(214,96,77),(244,165,130),(253,219,199),(255,255,255),(209,229,240),(146,197,222),(67,147,195),(33,102,172),(5,48,97)]\n",
    "colorsm=[[a/255. for a in x] for x in colors_orig]\n",
    "div_color= LinearSegmentedColormap.from_list( 'div_color', colorsm, N=49)\n",
    "level=np.arange(-5,5,.2) #-.6,.5,.05)  #\n",
    "bounds=level.tolist()\n",
    "cmap = div_color\n",
    "cmaplist = [cmap(i) for i in range(cmap.N,0,-1)]\n",
    "cmap = mpl.colors.LinearSegmentedColormap.from_list('Custom cmap', cmaplist, cmap.N)\n",
    "norm = mpl.colors.BoundaryNorm(bounds, cmap.N)"
   ]
  },
  {
   "cell_type": "code",
   "execution_count": 15,
   "id": "78964eac-c7ab-4322-89b6-28794e96f140",
   "metadata": {},
   "outputs": [
    {
     "ename": "FileNotFoundError",
     "evalue": "[Errno 2] No such file or directory: b'/data/hubhome/s6mabohm/Masterarbeit/Masterarbeit/crosssection_data/fc_DOM01_0002_URB_temp_grid.nc'",
     "output_type": "error",
     "traceback": [
      "\u001b[0;31m---------------------------------------------------------------------------\u001b[0m",
      "\u001b[0;31mKeyError\u001b[0m                                  Traceback (most recent call last)",
      "File \u001b[0;32m/srv/conda3/envs/py39-cartopy/lib/python3.9/site-packages/xarray/backends/file_manager.py:211\u001b[0m, in \u001b[0;36mCachingFileManager._acquire_with_cache_info\u001b[0;34m(self, needs_lock)\u001b[0m\n\u001b[1;32m    210\u001b[0m \u001b[38;5;28;01mtry\u001b[39;00m:\n\u001b[0;32m--> 211\u001b[0m     file \u001b[38;5;241m=\u001b[39m \u001b[38;5;28;43mself\u001b[39;49m\u001b[38;5;241;43m.\u001b[39;49m\u001b[43m_cache\u001b[49m\u001b[43m[\u001b[49m\u001b[38;5;28;43mself\u001b[39;49m\u001b[38;5;241;43m.\u001b[39;49m\u001b[43m_key\u001b[49m\u001b[43m]\u001b[49m\n\u001b[1;32m    212\u001b[0m \u001b[38;5;28;01mexcept\u001b[39;00m \u001b[38;5;167;01mKeyError\u001b[39;00m:\n",
      "File \u001b[0;32m/srv/conda3/envs/py39-cartopy/lib/python3.9/site-packages/xarray/backends/lru_cache.py:56\u001b[0m, in \u001b[0;36mLRUCache.__getitem__\u001b[0;34m(self, key)\u001b[0m\n\u001b[1;32m     55\u001b[0m \u001b[38;5;28;01mwith\u001b[39;00m \u001b[38;5;28mself\u001b[39m\u001b[38;5;241m.\u001b[39m_lock:\n\u001b[0;32m---> 56\u001b[0m     value \u001b[38;5;241m=\u001b[39m \u001b[38;5;28;43mself\u001b[39;49m\u001b[38;5;241;43m.\u001b[39;49m\u001b[43m_cache\u001b[49m\u001b[43m[\u001b[49m\u001b[43mkey\u001b[49m\u001b[43m]\u001b[49m\n\u001b[1;32m     57\u001b[0m     \u001b[38;5;28mself\u001b[39m\u001b[38;5;241m.\u001b[39m_cache\u001b[38;5;241m.\u001b[39mmove_to_end(key)\n",
      "\u001b[0;31mKeyError\u001b[0m: [<class 'netCDF4._netCDF4.Dataset'>, ('/data/hubhome/s6mabohm/Masterarbeit/Masterarbeit/crosssection_data/fc_DOM01_0002_URB_temp_grid.nc',), 'r', (('clobber', True), ('diskless', False), ('format', 'NETCDF4'), ('persist', False)), '7f77ebef-0048-40de-85c7-6c436e2746ca']",
      "\nDuring handling of the above exception, another exception occurred:\n",
      "\u001b[0;31mFileNotFoundError\u001b[0m                         Traceback (most recent call last)",
      "Cell \u001b[0;32mIn[15], line 3\u001b[0m\n\u001b[1;32m      1\u001b[0m \u001b[38;5;66;03m#open dataset with temperature variable\u001b[39;00m\n\u001b[0;32m----> 3\u001b[0m datafile \u001b[38;5;241m=\u001b[39m \u001b[43mxr\u001b[49m\u001b[38;5;241;43m.\u001b[39;49m\u001b[43mopen_dataset\u001b[49m\u001b[43m(\u001b[49m\u001b[38;5;124;43m\"\u001b[39;49m\u001b[38;5;124;43m../Masterarbeit/crosssection_data/fc_DOM01_0002_URB_temp_grid.nc\u001b[39;49m\u001b[38;5;124;43m\"\u001b[39;49m\u001b[43m)\u001b[49m \n\u001b[1;32m      4\u001b[0m \u001b[38;5;66;03m#datafile = datafile.isel(height=slice(60))\u001b[39;00m\n\u001b[1;32m      5\u001b[0m a \u001b[38;5;241m=\u001b[39m datafile\u001b[38;5;241m.\u001b[39mvariables[\u001b[38;5;124m'\u001b[39m\u001b[38;5;124mT\u001b[39m\u001b[38;5;124m'\u001b[39m][\u001b[38;5;241m0\u001b[39m,:,:]\n",
      "File \u001b[0;32m/srv/conda3/envs/py39-cartopy/lib/python3.9/site-packages/xarray/backends/api.py:570\u001b[0m, in \u001b[0;36mopen_dataset\u001b[0;34m(filename_or_obj, engine, chunks, cache, decode_cf, mask_and_scale, decode_times, decode_timedelta, use_cftime, concat_characters, decode_coords, drop_variables, inline_array, chunked_array_type, from_array_kwargs, backend_kwargs, **kwargs)\u001b[0m\n\u001b[1;32m    558\u001b[0m decoders \u001b[38;5;241m=\u001b[39m _resolve_decoders_kwargs(\n\u001b[1;32m    559\u001b[0m     decode_cf,\n\u001b[1;32m    560\u001b[0m     open_backend_dataset_parameters\u001b[38;5;241m=\u001b[39mbackend\u001b[38;5;241m.\u001b[39mopen_dataset_parameters,\n\u001b[0;32m   (...)\u001b[0m\n\u001b[1;32m    566\u001b[0m     decode_coords\u001b[38;5;241m=\u001b[39mdecode_coords,\n\u001b[1;32m    567\u001b[0m )\n\u001b[1;32m    569\u001b[0m overwrite_encoded_chunks \u001b[38;5;241m=\u001b[39m kwargs\u001b[38;5;241m.\u001b[39mpop(\u001b[38;5;124m\"\u001b[39m\u001b[38;5;124moverwrite_encoded_chunks\u001b[39m\u001b[38;5;124m\"\u001b[39m, \u001b[38;5;28;01mNone\u001b[39;00m)\n\u001b[0;32m--> 570\u001b[0m backend_ds \u001b[38;5;241m=\u001b[39m \u001b[43mbackend\u001b[49m\u001b[38;5;241;43m.\u001b[39;49m\u001b[43mopen_dataset\u001b[49m\u001b[43m(\u001b[49m\n\u001b[1;32m    571\u001b[0m \u001b[43m    \u001b[49m\u001b[43mfilename_or_obj\u001b[49m\u001b[43m,\u001b[49m\n\u001b[1;32m    572\u001b[0m \u001b[43m    \u001b[49m\u001b[43mdrop_variables\u001b[49m\u001b[38;5;241;43m=\u001b[39;49m\u001b[43mdrop_variables\u001b[49m\u001b[43m,\u001b[49m\n\u001b[1;32m    573\u001b[0m \u001b[43m    \u001b[49m\u001b[38;5;241;43m*\u001b[39;49m\u001b[38;5;241;43m*\u001b[39;49m\u001b[43mdecoders\u001b[49m\u001b[43m,\u001b[49m\n\u001b[1;32m    574\u001b[0m \u001b[43m    \u001b[49m\u001b[38;5;241;43m*\u001b[39;49m\u001b[38;5;241;43m*\u001b[39;49m\u001b[43mkwargs\u001b[49m\u001b[43m,\u001b[49m\n\u001b[1;32m    575\u001b[0m \u001b[43m\u001b[49m\u001b[43m)\u001b[49m\n\u001b[1;32m    576\u001b[0m ds \u001b[38;5;241m=\u001b[39m _dataset_from_backend_dataset(\n\u001b[1;32m    577\u001b[0m     backend_ds,\n\u001b[1;32m    578\u001b[0m     filename_or_obj,\n\u001b[0;32m   (...)\u001b[0m\n\u001b[1;32m    588\u001b[0m     \u001b[38;5;241m*\u001b[39m\u001b[38;5;241m*\u001b[39mkwargs,\n\u001b[1;32m    589\u001b[0m )\n\u001b[1;32m    590\u001b[0m \u001b[38;5;28;01mreturn\u001b[39;00m ds\n",
      "File \u001b[0;32m/srv/conda3/envs/py39-cartopy/lib/python3.9/site-packages/xarray/backends/netCDF4_.py:602\u001b[0m, in \u001b[0;36mNetCDF4BackendEntrypoint.open_dataset\u001b[0;34m(self, filename_or_obj, mask_and_scale, decode_times, concat_characters, decode_coords, drop_variables, use_cftime, decode_timedelta, group, mode, format, clobber, diskless, persist, lock, autoclose)\u001b[0m\n\u001b[1;32m    581\u001b[0m \u001b[38;5;28;01mdef\u001b[39;00m \u001b[38;5;21mopen_dataset\u001b[39m(  \u001b[38;5;66;03m# type: ignore[override]  # allow LSP violation, not supporting **kwargs\u001b[39;00m\n\u001b[1;32m    582\u001b[0m     \u001b[38;5;28mself\u001b[39m,\n\u001b[1;32m    583\u001b[0m     filename_or_obj: \u001b[38;5;28mstr\u001b[39m \u001b[38;5;241m|\u001b[39m os\u001b[38;5;241m.\u001b[39mPathLike[Any] \u001b[38;5;241m|\u001b[39m BufferedIOBase \u001b[38;5;241m|\u001b[39m AbstractDataStore,\n\u001b[0;32m   (...)\u001b[0m\n\u001b[1;32m    599\u001b[0m     autoclose\u001b[38;5;241m=\u001b[39m\u001b[38;5;28;01mFalse\u001b[39;00m,\n\u001b[1;32m    600\u001b[0m ) \u001b[38;5;241m-\u001b[39m\u001b[38;5;241m>\u001b[39m Dataset:\n\u001b[1;32m    601\u001b[0m     filename_or_obj \u001b[38;5;241m=\u001b[39m _normalize_path(filename_or_obj)\n\u001b[0;32m--> 602\u001b[0m     store \u001b[38;5;241m=\u001b[39m \u001b[43mNetCDF4DataStore\u001b[49m\u001b[38;5;241;43m.\u001b[39;49m\u001b[43mopen\u001b[49m\u001b[43m(\u001b[49m\n\u001b[1;32m    603\u001b[0m \u001b[43m        \u001b[49m\u001b[43mfilename_or_obj\u001b[49m\u001b[43m,\u001b[49m\n\u001b[1;32m    604\u001b[0m \u001b[43m        \u001b[49m\u001b[43mmode\u001b[49m\u001b[38;5;241;43m=\u001b[39;49m\u001b[43mmode\u001b[49m\u001b[43m,\u001b[49m\n\u001b[1;32m    605\u001b[0m \u001b[43m        \u001b[49m\u001b[38;5;28;43mformat\u001b[39;49m\u001b[38;5;241;43m=\u001b[39;49m\u001b[38;5;28;43mformat\u001b[39;49m\u001b[43m,\u001b[49m\n\u001b[1;32m    606\u001b[0m \u001b[43m        \u001b[49m\u001b[43mgroup\u001b[49m\u001b[38;5;241;43m=\u001b[39;49m\u001b[43mgroup\u001b[49m\u001b[43m,\u001b[49m\n\u001b[1;32m    607\u001b[0m \u001b[43m        \u001b[49m\u001b[43mclobber\u001b[49m\u001b[38;5;241;43m=\u001b[39;49m\u001b[43mclobber\u001b[49m\u001b[43m,\u001b[49m\n\u001b[1;32m    608\u001b[0m \u001b[43m        \u001b[49m\u001b[43mdiskless\u001b[49m\u001b[38;5;241;43m=\u001b[39;49m\u001b[43mdiskless\u001b[49m\u001b[43m,\u001b[49m\n\u001b[1;32m    609\u001b[0m \u001b[43m        \u001b[49m\u001b[43mpersist\u001b[49m\u001b[38;5;241;43m=\u001b[39;49m\u001b[43mpersist\u001b[49m\u001b[43m,\u001b[49m\n\u001b[1;32m    610\u001b[0m \u001b[43m        \u001b[49m\u001b[43mlock\u001b[49m\u001b[38;5;241;43m=\u001b[39;49m\u001b[43mlock\u001b[49m\u001b[43m,\u001b[49m\n\u001b[1;32m    611\u001b[0m \u001b[43m        \u001b[49m\u001b[43mautoclose\u001b[49m\u001b[38;5;241;43m=\u001b[39;49m\u001b[43mautoclose\u001b[49m\u001b[43m,\u001b[49m\n\u001b[1;32m    612\u001b[0m \u001b[43m    \u001b[49m\u001b[43m)\u001b[49m\n\u001b[1;32m    614\u001b[0m     store_entrypoint \u001b[38;5;241m=\u001b[39m StoreBackendEntrypoint()\n\u001b[1;32m    615\u001b[0m     \u001b[38;5;28;01mwith\u001b[39;00m close_on_error(store):\n",
      "File \u001b[0;32m/srv/conda3/envs/py39-cartopy/lib/python3.9/site-packages/xarray/backends/netCDF4_.py:400\u001b[0m, in \u001b[0;36mNetCDF4DataStore.open\u001b[0;34m(cls, filename, mode, format, group, clobber, diskless, persist, lock, lock_maker, autoclose)\u001b[0m\n\u001b[1;32m    394\u001b[0m kwargs \u001b[38;5;241m=\u001b[39m \u001b[38;5;28mdict\u001b[39m(\n\u001b[1;32m    395\u001b[0m     clobber\u001b[38;5;241m=\u001b[39mclobber, diskless\u001b[38;5;241m=\u001b[39mdiskless, persist\u001b[38;5;241m=\u001b[39mpersist, \u001b[38;5;28mformat\u001b[39m\u001b[38;5;241m=\u001b[39m\u001b[38;5;28mformat\u001b[39m\n\u001b[1;32m    396\u001b[0m )\n\u001b[1;32m    397\u001b[0m manager \u001b[38;5;241m=\u001b[39m CachingFileManager(\n\u001b[1;32m    398\u001b[0m     netCDF4\u001b[38;5;241m.\u001b[39mDataset, filename, mode\u001b[38;5;241m=\u001b[39mmode, kwargs\u001b[38;5;241m=\u001b[39mkwargs\n\u001b[1;32m    399\u001b[0m )\n\u001b[0;32m--> 400\u001b[0m \u001b[38;5;28;01mreturn\u001b[39;00m \u001b[38;5;28;43mcls\u001b[39;49m\u001b[43m(\u001b[49m\u001b[43mmanager\u001b[49m\u001b[43m,\u001b[49m\u001b[43m \u001b[49m\u001b[43mgroup\u001b[49m\u001b[38;5;241;43m=\u001b[39;49m\u001b[43mgroup\u001b[49m\u001b[43m,\u001b[49m\u001b[43m \u001b[49m\u001b[43mmode\u001b[49m\u001b[38;5;241;43m=\u001b[39;49m\u001b[43mmode\u001b[49m\u001b[43m,\u001b[49m\u001b[43m \u001b[49m\u001b[43mlock\u001b[49m\u001b[38;5;241;43m=\u001b[39;49m\u001b[43mlock\u001b[49m\u001b[43m,\u001b[49m\u001b[43m \u001b[49m\u001b[43mautoclose\u001b[49m\u001b[38;5;241;43m=\u001b[39;49m\u001b[43mautoclose\u001b[49m\u001b[43m)\u001b[49m\n",
      "File \u001b[0;32m/srv/conda3/envs/py39-cartopy/lib/python3.9/site-packages/xarray/backends/netCDF4_.py:347\u001b[0m, in \u001b[0;36mNetCDF4DataStore.__init__\u001b[0;34m(self, manager, group, mode, lock, autoclose)\u001b[0m\n\u001b[1;32m    345\u001b[0m \u001b[38;5;28mself\u001b[39m\u001b[38;5;241m.\u001b[39m_group \u001b[38;5;241m=\u001b[39m group\n\u001b[1;32m    346\u001b[0m \u001b[38;5;28mself\u001b[39m\u001b[38;5;241m.\u001b[39m_mode \u001b[38;5;241m=\u001b[39m mode\n\u001b[0;32m--> 347\u001b[0m \u001b[38;5;28mself\u001b[39m\u001b[38;5;241m.\u001b[39mformat \u001b[38;5;241m=\u001b[39m \u001b[38;5;28;43mself\u001b[39;49m\u001b[38;5;241;43m.\u001b[39;49m\u001b[43mds\u001b[49m\u001b[38;5;241m.\u001b[39mdata_model\n\u001b[1;32m    348\u001b[0m \u001b[38;5;28mself\u001b[39m\u001b[38;5;241m.\u001b[39m_filename \u001b[38;5;241m=\u001b[39m \u001b[38;5;28mself\u001b[39m\u001b[38;5;241m.\u001b[39mds\u001b[38;5;241m.\u001b[39mfilepath()\n\u001b[1;32m    349\u001b[0m \u001b[38;5;28mself\u001b[39m\u001b[38;5;241m.\u001b[39mis_remote \u001b[38;5;241m=\u001b[39m is_remote_uri(\u001b[38;5;28mself\u001b[39m\u001b[38;5;241m.\u001b[39m_filename)\n",
      "File \u001b[0;32m/srv/conda3/envs/py39-cartopy/lib/python3.9/site-packages/xarray/backends/netCDF4_.py:409\u001b[0m, in \u001b[0;36mNetCDF4DataStore.ds\u001b[0;34m(self)\u001b[0m\n\u001b[1;32m    407\u001b[0m \u001b[38;5;129m@property\u001b[39m\n\u001b[1;32m    408\u001b[0m \u001b[38;5;28;01mdef\u001b[39;00m \u001b[38;5;21mds\u001b[39m(\u001b[38;5;28mself\u001b[39m):\n\u001b[0;32m--> 409\u001b[0m     \u001b[38;5;28;01mreturn\u001b[39;00m \u001b[38;5;28;43mself\u001b[39;49m\u001b[38;5;241;43m.\u001b[39;49m\u001b[43m_acquire\u001b[49m\u001b[43m(\u001b[49m\u001b[43m)\u001b[49m\n",
      "File \u001b[0;32m/srv/conda3/envs/py39-cartopy/lib/python3.9/site-packages/xarray/backends/netCDF4_.py:403\u001b[0m, in \u001b[0;36mNetCDF4DataStore._acquire\u001b[0;34m(self, needs_lock)\u001b[0m\n\u001b[1;32m    402\u001b[0m \u001b[38;5;28;01mdef\u001b[39;00m \u001b[38;5;21m_acquire\u001b[39m(\u001b[38;5;28mself\u001b[39m, needs_lock\u001b[38;5;241m=\u001b[39m\u001b[38;5;28;01mTrue\u001b[39;00m):\n\u001b[0;32m--> 403\u001b[0m     \u001b[38;5;28;01mwith\u001b[39;00m \u001b[38;5;28mself\u001b[39m\u001b[38;5;241m.\u001b[39m_manager\u001b[38;5;241m.\u001b[39macquire_context(needs_lock) \u001b[38;5;28;01mas\u001b[39;00m root:\n\u001b[1;32m    404\u001b[0m         ds \u001b[38;5;241m=\u001b[39m _nc4_require_group(root, \u001b[38;5;28mself\u001b[39m\u001b[38;5;241m.\u001b[39m_group, \u001b[38;5;28mself\u001b[39m\u001b[38;5;241m.\u001b[39m_mode)\n\u001b[1;32m    405\u001b[0m     \u001b[38;5;28;01mreturn\u001b[39;00m ds\n",
      "File \u001b[0;32m/srv/conda3/envs/py39-cartopy/lib/python3.9/contextlib.py:119\u001b[0m, in \u001b[0;36m_GeneratorContextManager.__enter__\u001b[0;34m(self)\u001b[0m\n\u001b[1;32m    117\u001b[0m \u001b[38;5;28;01mdel\u001b[39;00m \u001b[38;5;28mself\u001b[39m\u001b[38;5;241m.\u001b[39margs, \u001b[38;5;28mself\u001b[39m\u001b[38;5;241m.\u001b[39mkwds, \u001b[38;5;28mself\u001b[39m\u001b[38;5;241m.\u001b[39mfunc\n\u001b[1;32m    118\u001b[0m \u001b[38;5;28;01mtry\u001b[39;00m:\n\u001b[0;32m--> 119\u001b[0m     \u001b[38;5;28;01mreturn\u001b[39;00m \u001b[38;5;28;43mnext\u001b[39;49m\u001b[43m(\u001b[49m\u001b[38;5;28;43mself\u001b[39;49m\u001b[38;5;241;43m.\u001b[39;49m\u001b[43mgen\u001b[49m\u001b[43m)\u001b[49m\n\u001b[1;32m    120\u001b[0m \u001b[38;5;28;01mexcept\u001b[39;00m \u001b[38;5;167;01mStopIteration\u001b[39;00m:\n\u001b[1;32m    121\u001b[0m     \u001b[38;5;28;01mraise\u001b[39;00m \u001b[38;5;167;01mRuntimeError\u001b[39;00m(\u001b[38;5;124m\"\u001b[39m\u001b[38;5;124mgenerator didn\u001b[39m\u001b[38;5;124m'\u001b[39m\u001b[38;5;124mt yield\u001b[39m\u001b[38;5;124m\"\u001b[39m) \u001b[38;5;28;01mfrom\u001b[39;00m \u001b[38;5;28;01mNone\u001b[39;00m\n",
      "File \u001b[0;32m/srv/conda3/envs/py39-cartopy/lib/python3.9/site-packages/xarray/backends/file_manager.py:199\u001b[0m, in \u001b[0;36mCachingFileManager.acquire_context\u001b[0;34m(self, needs_lock)\u001b[0m\n\u001b[1;32m    196\u001b[0m \u001b[38;5;129m@contextlib\u001b[39m\u001b[38;5;241m.\u001b[39mcontextmanager\n\u001b[1;32m    197\u001b[0m \u001b[38;5;28;01mdef\u001b[39;00m \u001b[38;5;21macquire_context\u001b[39m(\u001b[38;5;28mself\u001b[39m, needs_lock\u001b[38;5;241m=\u001b[39m\u001b[38;5;28;01mTrue\u001b[39;00m):\n\u001b[1;32m    198\u001b[0m \u001b[38;5;250m    \u001b[39m\u001b[38;5;124;03m\"\"\"Context manager for acquiring a file.\"\"\"\u001b[39;00m\n\u001b[0;32m--> 199\u001b[0m     file, cached \u001b[38;5;241m=\u001b[39m \u001b[38;5;28;43mself\u001b[39;49m\u001b[38;5;241;43m.\u001b[39;49m\u001b[43m_acquire_with_cache_info\u001b[49m\u001b[43m(\u001b[49m\u001b[43mneeds_lock\u001b[49m\u001b[43m)\u001b[49m\n\u001b[1;32m    200\u001b[0m     \u001b[38;5;28;01mtry\u001b[39;00m:\n\u001b[1;32m    201\u001b[0m         \u001b[38;5;28;01myield\u001b[39;00m file\n",
      "File \u001b[0;32m/srv/conda3/envs/py39-cartopy/lib/python3.9/site-packages/xarray/backends/file_manager.py:217\u001b[0m, in \u001b[0;36mCachingFileManager._acquire_with_cache_info\u001b[0;34m(self, needs_lock)\u001b[0m\n\u001b[1;32m    215\u001b[0m     kwargs \u001b[38;5;241m=\u001b[39m kwargs\u001b[38;5;241m.\u001b[39mcopy()\n\u001b[1;32m    216\u001b[0m     kwargs[\u001b[38;5;124m\"\u001b[39m\u001b[38;5;124mmode\u001b[39m\u001b[38;5;124m\"\u001b[39m] \u001b[38;5;241m=\u001b[39m \u001b[38;5;28mself\u001b[39m\u001b[38;5;241m.\u001b[39m_mode\n\u001b[0;32m--> 217\u001b[0m file \u001b[38;5;241m=\u001b[39m \u001b[38;5;28;43mself\u001b[39;49m\u001b[38;5;241;43m.\u001b[39;49m\u001b[43m_opener\u001b[49m\u001b[43m(\u001b[49m\u001b[38;5;241;43m*\u001b[39;49m\u001b[38;5;28;43mself\u001b[39;49m\u001b[38;5;241;43m.\u001b[39;49m\u001b[43m_args\u001b[49m\u001b[43m,\u001b[49m\u001b[43m \u001b[49m\u001b[38;5;241;43m*\u001b[39;49m\u001b[38;5;241;43m*\u001b[39;49m\u001b[43mkwargs\u001b[49m\u001b[43m)\u001b[49m\n\u001b[1;32m    218\u001b[0m \u001b[38;5;28;01mif\u001b[39;00m \u001b[38;5;28mself\u001b[39m\u001b[38;5;241m.\u001b[39m_mode \u001b[38;5;241m==\u001b[39m \u001b[38;5;124m\"\u001b[39m\u001b[38;5;124mw\u001b[39m\u001b[38;5;124m\"\u001b[39m:\n\u001b[1;32m    219\u001b[0m     \u001b[38;5;66;03m# ensure file doesn't get overridden when opened again\u001b[39;00m\n\u001b[1;32m    220\u001b[0m     \u001b[38;5;28mself\u001b[39m\u001b[38;5;241m.\u001b[39m_mode \u001b[38;5;241m=\u001b[39m \u001b[38;5;124m\"\u001b[39m\u001b[38;5;124ma\u001b[39m\u001b[38;5;124m\"\u001b[39m\n",
      "File \u001b[0;32msrc/netCDF4/_netCDF4.pyx:2463\u001b[0m, in \u001b[0;36mnetCDF4._netCDF4.Dataset.__init__\u001b[0;34m()\u001b[0m\n",
      "File \u001b[0;32msrc/netCDF4/_netCDF4.pyx:2026\u001b[0m, in \u001b[0;36mnetCDF4._netCDF4._ensure_nc_success\u001b[0;34m()\u001b[0m\n",
      "\u001b[0;31mFileNotFoundError\u001b[0m: [Errno 2] No such file or directory: b'/data/hubhome/s6mabohm/Masterarbeit/Masterarbeit/crosssection_data/fc_DOM01_0002_URB_temp_grid.nc'"
     ]
    }
   ],
   "source": [
    "#open dataset with temperature variable\n",
    "\n",
    "datafile = xr.open_dataset(\"../Masterarbeit/crosssection_data/fc_DOM01_0002_URB_temp_grid.nc\") \n",
    "#datafile = datafile.isel(height=slice(60))\n",
    "a = datafile.variables['T'][0,:,:]"
   ]
  },
  {
   "cell_type": "code",
   "execution_count": 506,
   "id": "0d1f9f6d-c830-464b-83f4-39ccc8ec95de",
   "metadata": {},
   "outputs": [],
   "source": [
    "#open external paramters for topography and urban land use information\n",
    "\n",
    "cor = xr.open_dataset('../Masterarbeit/crosssection_data/extpar_icon_grid_0026_R03B07_G.nc')\n",
    "luf = cor.variables['LU_CLASS_FRACTION'][:,:]\n",
    "topo = cor.variables['topography_c'][:]"
   ]
  },
  {
   "cell_type": "code",
   "execution_count": 472,
   "id": "092d960c-c504-4887-a243-71ad2164da06",
   "metadata": {},
   "outputs": [],
   "source": [
    "clons  = np.rad2deg(datafile.variables[\"clon\"])\n",
    "clats  = np.rad2deg(datafile.variables[\"clat\"])"
   ]
  },
  {
   "cell_type": "code",
   "execution_count": 609,
   "id": "0bf4fd8d-edfc-43a6-98c8-79101790cd23",
   "metadata": {},
   "outputs": [
    {
     "name": "stderr",
     "output_type": "stream",
     "text": [
      "/srv/conda3/envs/py3-general/lib/python3.9/site-packages/xarray/coding/times.py:154: SerializationWarning: Ambiguous reference date string: 1-1-1 00:00:00. The first value is assumed to be the year hence will be padded with zeros to remove the ambiguity (the padded reference date string is: 0001-1-1 00:00:00). To remove this message, remove the ambiguity by padding your reference date strings with zeros.\n",
      "  warnings.warn(warning_msg, SerializationWarning)\n",
      "/srv/conda3/envs/py3-general/lib/python3.9/site-packages/xarray/coding/times.py:724: SerializationWarning: Unable to decode time axis into full numpy.datetime64 objects, continuing using cftime.datetime objects instead, reason: dates out of range\n",
      "  dtype = _decode_cf_datetime_dtype(data, units, calendar, self.use_cftime)\n",
      "/srv/conda3/envs/py3-general/lib/python3.9/site-packages/xarray/core/indexing.py:557: SerializationWarning: Unable to decode time axis into full numpy.datetime64 objects, continuing using cftime.datetime objects instead, reason: dates out of range\n",
      "  array = array.get_duck_array()\n"
     ]
    }
   ],
   "source": [
    "#open height level file\n",
    "\n",
    "hhl_file = xr.open_dataset(\"../Masterarbeit/crosssection_data/hhl.nc\")\n",
    "hhl = hhl_file.variables[\"HHL\"][0,:,:]#[::-1]\n",
    "hhl_f = hhl\n",
    "### Full levels: because the levels are defined at half levels, it is corrected here\n",
    "for k in range(1,hhl.shape[0]):\n",
    "    hhl_f[k,:] = hhl[k,:] + (hhl[k,:]-hhl[k-1,:])/2\n"
   ]
  },
  {
   "cell_type": "code",
   "execution_count": 638,
   "id": "d9e2a916-ad5c-4843-a80a-aac409f518f5",
   "metadata": {},
   "outputs": [],
   "source": [
    "#extract index of the geographic regions where we want to do the interpolation\n",
    "\n",
    "lar1 = 51.5\n",
    "lar2 = 53.5\n",
    "lor1 = 12\n",
    "lor2 = 14\n",
    "\n",
    "\n",
    "ind=[]\n",
    "for i in range(0,clons.shape[0]):\n",
    "    if ((clats[i]<lar2 and clats[i]>lar1) and (clons[i]>lor1 and clons[i]<lor2)): #find the indexes and select the values after\n",
    "        ind.append(i)"
   ]
  },
  {
   "cell_type": "code",
   "execution_count": 675,
   "id": "8184b9f4-46f2-4c39-8e89-a429ac2286a4",
   "metadata": {
    "scrolled": true
   },
   "outputs": [],
   "source": [
    "#save it for Berlin to save some computational time when doing it again\n",
    "\n",
    "np.save('ind_array_berlin.npy', ind)\n",
    "#np.load would be the command to load it again"
   ]
  },
  {
   "cell_type": "code",
   "execution_count": 640,
   "id": "442042d7-78b9-419d-8c8e-8bec29b11a7b",
   "metadata": {},
   "outputs": [],
   "source": [
    "#defining the lon lat values for the cross section, where the interpolation is suppose to be mapped\n",
    "\n",
    "lo_i = 12.1\n",
    "la_i = 52.51\n",
    "lo_f = 13.9\n",
    "la_f = 52.53\n",
    "\n",
    "lo_line = np.linspace(lo_i,lo_f,60)\n",
    "la_line = np.linspace(la_i,la_f,60)\n",
    "cross_line = np.vstack(( np.linspace(lo_i,lo_f,60), np.linspace(la_i,la_f,60) )).T\n",
    "interp_method = 'cubic'\n",
    "c = []\n",
    "### Cross line as tuples\n",
    "for i in range(1,cross_line.shape[0]+1):\n",
    "    c.append(i)\n",
    "lons=clons[ind]\n",
    "lats=clats[ind]\n",
    "lons=lons\n",
    "i_c=np.vstack((lons,lats)).T"
   ]
  },
  {
   "cell_type": "code",
   "execution_count": 641,
   "id": "8aba2b33-dac0-4552-a5e0-98332ee23605",
   "metadata": {},
   "outputs": [],
   "source": [
    "#initializing arrays\n",
    "\n",
    "cross_val=np.zeros((hhl_f.shape[0]-1,len(cross_line)))\n",
    "cross_fl =np.zeros((hhl_f.shape[0]-1,len(cross_line)))\n",
    "cross_test =np.zeros((hhl_f.shape[0]-1,len(cross_line)))"
   ]
  },
  {
   "cell_type": "code",
   "execution_count": 682,
   "id": "897cfbdd-0a47-4c2e-8bd5-608fa0b675a8",
   "metadata": {},
   "outputs": [],
   "source": [
    "# horizontal interpolation\n",
    "for i in range(a.shape[0]-1,0,-1):\n",
    "    hhlf_i = griddata(i_c,hhl_f[i,ind],cross_line,method=interp_method)\n",
    "#    print(i, hhlf_i)\n",
    "    test = griddata(i_c,a[i,ind],cross_line,method=interp_method)\n",
    "#    print(i,test)\n",
    "    val = test - np.nanmean(test)\n",
    "#    print(val)\n",
    "    cross_val[i,:] = val\n",
    "    cross_fl[i,:] = hhlf_i\n",
    "    cross_test[i,:] = c"
   ]
  },
  {
   "cell_type": "code",
   "execution_count": 685,
   "id": "dc8e4de8-2804-42dc-8111-d0f6c8c33e2f",
   "metadata": {},
   "outputs": [
    {
     "name": "stdout",
     "output_type": "stream",
     "text": [
      "[[12.1, 52.51], [12.13, 52.51], [12.16, 52.51], [12.19, 52.51], [12.22, 52.51], [12.25, 52.51], [12.28, 52.51], [12.31, 52.51], [12.34, 52.51], [12.37, 52.51], [12.41, 52.51], [12.44, 52.51], [12.47, 52.51], [12.5, 52.51], [12.53, 52.51], [12.56, 52.52], [12.59, 52.52], [12.62, 52.52], [12.65, 52.52], [12.68, 52.52], [12.71, 52.52], [12.74, 52.52], [12.77, 52.52], [12.8, 52.52], [12.83, 52.52], [12.86, 52.52], [12.89, 52.52], [12.92, 52.52], [12.95, 52.52], [12.98, 52.52], [13.02, 52.52], [13.05, 52.52], [13.08, 52.52], [13.11, 52.52], [13.14, 52.52], [13.17, 52.52], [13.2, 52.52], [13.23, 52.52], [13.26, 52.52], [13.29, 52.52], [13.32, 52.52], [13.35, 52.52], [13.38, 52.52], [13.41, 52.52], [13.44, 52.52], [13.47, 52.53], [13.5, 52.53], [13.53, 52.53], [13.56, 52.53], [13.59, 52.53], [13.63, 52.53], [13.66, 52.53], [13.69, 52.53], [13.72, 52.53], [13.75, 52.53], [13.78, 52.53], [13.81, 52.53], [13.84, 52.53], [13.87, 52.53], [13.9, 52.53]]\n"
     ]
    }
   ],
   "source": [
    "#creating x-labels for the plot\n",
    "\n",
    "x_labels = []\n",
    "cross_line_lab = np.vstack([np.linspace(lo_i, lo_f, 60), np.linspace(la_i, la_f, 60)]).T\n",
    "x_labels = [[round(pair[0], 2), round(pair[1], 2)] for pair in cross_line_lab]\n",
    "print(x_labels)"
   ]
  },
  {
   "cell_type": "code",
   "execution_count": 4,
   "id": "ec31710a-43ad-480e-bc15-fa40dd5d2011",
   "metadata": {},
   "outputs": [],
   "source": [
    "#define a color map for the plot later\n",
    "\n",
    "colors_orig = [ (103,0,31),(178,24,43),(214,96,77),(244,165,130),(253,219,199),(255,255,255),(209,229,240),(146,197,222),(67,147,195),(33,102,172),(5,48,97)]\n",
    "colorsm=[[a/255. for a in x] for x in colors_orig]\n",
    "div_color= LinearSegmentedColormap.from_list( 'div_color', colorsm, N=49)\n",
    "level=np.arange(-5,5,.2) #-.6,.5,.05)  #\n",
    "bounds=level.tolist()\n",
    "cmap = div_color\n",
    "cmaplist = [cmap(i) for i in range(cmap.N,0,-1)]\n",
    "cmap = mpl.colors.LinearSegmentedColormap.from_list('Custom cmap', cmaplist, cmap.N)\n",
    "norm = mpl.colors.BoundaryNorm(bounds, cmap.N)\n",
    "\n"
   ]
  },
  {
   "cell_type": "code",
   "execution_count": 1,
   "id": "b75175e1-ab7f-45b5-bddf-d02fafacd5cb",
   "metadata": {},
   "outputs": [
    {
     "ename": "NameError",
     "evalue": "name 'mpl_colors' is not defined",
     "output_type": "error",
     "traceback": [
      "\u001b[0;31m---------------------------------------------------------------------------\u001b[0m",
      "\u001b[0;31mNameError\u001b[0m                                 Traceback (most recent call last)",
      "Cell \u001b[0;32mIn[1], line 5\u001b[0m\n\u001b[1;32m      1\u001b[0m colors_orig \u001b[38;5;241m=\u001b[39m [(\u001b[38;5;241m103\u001b[39m, \u001b[38;5;241m0\u001b[39m, \u001b[38;5;241m31\u001b[39m), (\u001b[38;5;241m178\u001b[39m, \u001b[38;5;241m24\u001b[39m, \u001b[38;5;241m43\u001b[39m), (\u001b[38;5;241m214\u001b[39m, \u001b[38;5;241m96\u001b[39m, \u001b[38;5;241m77\u001b[39m), (\u001b[38;5;241m244\u001b[39m, \u001b[38;5;241m165\u001b[39m, \u001b[38;5;241m130\u001b[39m), (\u001b[38;5;241m253\u001b[39m, \u001b[38;5;241m219\u001b[39m, \u001b[38;5;241m199\u001b[39m),\n\u001b[1;32m      2\u001b[0m                (\u001b[38;5;241m255\u001b[39m, \u001b[38;5;241m255\u001b[39m, \u001b[38;5;241m255\u001b[39m), (\u001b[38;5;241m209\u001b[39m, \u001b[38;5;241m229\u001b[39m, \u001b[38;5;241m240\u001b[39m), (\u001b[38;5;241m146\u001b[39m, \u001b[38;5;241m197\u001b[39m, \u001b[38;5;241m222\u001b[39m), (\u001b[38;5;241m67\u001b[39m, \u001b[38;5;241m147\u001b[39m, \u001b[38;5;241m195\u001b[39m), (\u001b[38;5;241m33\u001b[39m, \u001b[38;5;241m102\u001b[39m, \u001b[38;5;241m172\u001b[39m), (\u001b[38;5;241m5\u001b[39m, \u001b[38;5;241m48\u001b[39m, \u001b[38;5;241m97\u001b[39m)]\n\u001b[1;32m      4\u001b[0m colorsm \u001b[38;5;241m=\u001b[39m [(r \u001b[38;5;241m/\u001b[39m \u001b[38;5;241m255.\u001b[39m, g \u001b[38;5;241m/\u001b[39m \u001b[38;5;241m255.\u001b[39m, b \u001b[38;5;241m/\u001b[39m \u001b[38;5;241m255.\u001b[39m) \u001b[38;5;28;01mfor\u001b[39;00m (r, g, b) \u001b[38;5;129;01min\u001b[39;00m \u001b[38;5;28mreversed\u001b[39m(colors_orig)]\n\u001b[0;32m----> 5\u001b[0m cmap \u001b[38;5;241m=\u001b[39m \u001b[43mmpl_colors\u001b[49m\u001b[38;5;241m.\u001b[39mLinearSegmentedColormap\u001b[38;5;241m.\u001b[39mfrom_list(\u001b[38;5;124m'\u001b[39m\u001b[38;5;124mCustom cmap\u001b[39m\u001b[38;5;124m'\u001b[39m, colorsm, N\u001b[38;5;241m=\u001b[39m\u001b[38;5;241m256\u001b[39m)\n\u001b[1;32m      6\u001b[0m levels \u001b[38;5;241m=\u001b[39m np\u001b[38;5;241m.\u001b[39marange(\u001b[38;5;241m-\u001b[39m\u001b[38;5;241m4\u001b[39m, \u001b[38;5;241m4\u001b[39m, \u001b[38;5;241m0.2\u001b[39m)\n\u001b[1;32m      7\u001b[0m bounds \u001b[38;5;241m=\u001b[39m levels\u001b[38;5;241m.\u001b[39mtolist()\n",
      "\u001b[0;31mNameError\u001b[0m: name 'mpl_colors' is not defined"
     ]
    }
   ],
   "source": [
    "colors_orig = [(103, 0, 31), (178, 24, 43), (214, 96, 77), (244, 165, 130), (253, 219, 199),\n",
    "               (255, 255, 255), (209, 229, 240), (146, 197, 222), (67, 147, 195), (33, 102, 172), (5, 48, 97)]\n",
    "\n",
    "colorsm = [(r / 255., g / 255., b / 255.) for (r, g, b) in reversed(colors_orig)]\n",
    "cmap = mpl_colors.LinearSegmentedColormap.from_list('Custom cmap', colorsm, N=256)\n",
    "levels = np.arange(-4, 4, 0.2)\n",
    "bounds = levels.tolist()\n",
    "norm = mpl_colors.BoundaryNorm(bounds, cmap.N)\n",
    "\n",
    "\n",
    "\n",
    "params = {'axes.labelsize': 30,'axes.titlesize':30, 'legend.fontsize': 30, 'xtick.labelsize': 30, \n",
    "          'ytick.labelsize': 30}\n",
    "plt.rcParams.update(params)\n",
    "\n",
    "vmin = -3\n",
    "vmax = 3\n",
    "\n",
    "fig, ax =plt.subplots( figsize=(20, 20))\n",
    "CS = plt.contourf(cross_test,cross_fl, cross_val,20, cmap=cmap)\n",
    "\n",
    "## interp of invar fields:\n",
    "topo_i = griddata(i_c,topo[ind],cross_line,method=interp_method)\n",
    "lu_i = griddata(i_c,luf[18,ind],cross_line,method=interp_method)\n",
    "\n",
    "plt.fill_between(c,-5,topo_i,color='k')\n",
    "\n",
    "lu_urb = lu_i\n",
    "\n",
    "for i in range(0,lu_i.shape[0]):\n",
    "  if (lu_urb[i]<.6):\n",
    "      lu_urb[i]= np.nan\n",
    "  else:\n",
    "      lu_urb[i]=20\n",
    "\n",
    "plt.fill_between(c,20,lu_urb,color='r')\n",
    "\n",
    "plt.ylim(0,2000)\n",
    "plt.ylabel('Height [m]')\n",
    "plt.xlabel('Lat, Lon')\n",
    "plt.xlim(5,60)\n",
    "plt.xticks(c[5::5],x_labels[5::5],rotation=30)\n",
    "cbar = plt.colorbar(CS)\n",
    "cbar.set_label('$T - \\overline{T}$ [K]')\n",
    "plt.show()"
   ]
  },
  {
   "cell_type": "code",
   "execution_count": null,
   "id": "820d5087-c43b-4d93-b515-389a7c14fd2f",
   "metadata": {},
   "outputs": [],
   "source": []
  }
 ],
 "metadata": {
  "kernelspec": {
   "display_name": "py39-cartopy [conda env:py39-cartopy]",
   "language": "python",
   "name": "conda-env-py39-cartopy-py"
  },
  "language_info": {
   "codemirror_mode": {
    "name": "ipython",
    "version": 3
   },
   "file_extension": ".py",
   "mimetype": "text/x-python",
   "name": "python",
   "nbconvert_exporter": "python",
   "pygments_lexer": "ipython3",
   "version": "3.9.18"
  }
 },
 "nbformat": 4,
 "nbformat_minor": 5
}
