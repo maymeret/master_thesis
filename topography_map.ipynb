{
 "cells": [
  {
   "cell_type": "code",
   "execution_count": 65,
   "id": "dd7e4654-90d9-4466-9b5d-ec17d1de35a0",
   "metadata": {},
   "outputs": [],
   "source": [
    "import numpy as np\n",
    "import xarray as xr\n",
    "import matplotlib.pyplot as plt\n",
    "import matplotlib.dates as mdates\n",
    "import cartopy.crs as ccrs\n",
    "import cartopy.feature as cf\n",
    "import netCDF4\n",
    "import pandas as pd\n",
    "import datetime\n",
    "import pytz \n",
    "from tzwhere import tzwhere\n",
    "import math\n",
    "from suntime import Sun\n",
    "import scipy as sci\n",
    "from scipy import stats\n",
    "from scipy.stats import norm\n",
    "import seaborn as sns\n",
    "import cdo\n",
    "import statsmodels.api as sm"
   ]
  },
  {
   "cell_type": "code",
   "execution_count": 68,
   "id": "fdb178ca-264c-4617-a1a4-83a0dd880156",
   "metadata": {},
   "outputs": [],
   "source": [
    "extpar1 = xr.open_dataset( '../icon_extpar_0024_R02B06_G_20200917_tiles.nc', chunks={} )\n",
    "grid1 = xr.open_dataset('../fc_DOM01_0121_mem001_NU_grid.nc')"
   ]
  },
  {
   "cell_type": "code",
   "execution_count": 69,
   "id": "cf7fc325-3f59-4da0-89aa-a40ee7793b43",
   "metadata": {},
   "outputs": [],
   "source": [
    "# read center lon/lat in radiant\n",
    "clon_rad = grid1['clon']                # center longitude  / rad\n",
    "clat_rad = grid1['clat']                # center latitutde  / rad\n",
    "\n",
    "# convert to degrees\n",
    "clon = np.rad2deg( clon_rad )\n",
    "clat = np.rad2deg( clat_rad )\n",
    "\n",
    "# read surface height\n",
    "h    = extpar1['topography_c']      # topography height / m"
   ]
  },
  {
   "cell_type": "code",
   "execution_count": null,
   "id": "1731712d-e5eb-43c1-a053-a57f7b7fd810",
   "metadata": {},
   "outputs": [],
   "source": [
    "# Set the limits for Europe\n",
    "lon_min, lon_max = -10, 40  # Longitude range for Europe\n",
    "lat_min, lat_max = 30, 50   # Latitude range for Europe\n",
    "\n",
    "# Filter data within the specified limits\n",
    "mask = (clon.values >= lon_min) & (clon.values <= lon_max) & (clat.values >= lat_min) & (clat.values <= lat_max)\n",
    "clon_europe = clon.values[mask]\n",
    "clat_europe = clat.values[mask]\n",
    "h_europe = h[mask]\n",
    "\n",
    "# Plot the data for Europe\n",
    "plt.figure(figsize=(10, 10))\n",
    "plt.tricontourf(clon_europe, clat_europe, h_europe, levels=20, cmap=plt.cm.gist_earth, vmin=-800, vmax=1200.)\n",
    "\n",
    "# Set the limits for the plot\n",
    "plt.xlim(lon_min, lon_max)\n",
    "plt.ylim(lat_min, lat_max)\n",
    "\n",
    "plt.title('ICON DOM01 - Europe', fontweight='bold')\n",
    "plt.show()\n"
   ]
  },
  {
   "cell_type": "code",
   "execution_count": null,
   "id": "dcf059ad-569c-4f72-8042-7b46bb75ba75",
   "metadata": {},
   "outputs": [],
   "source": []
  },
  {
   "cell_type": "code",
   "execution_count": null,
   "id": "179eaf27-e164-4c27-9959-bbf6a4405722",
   "metadata": {},
   "outputs": [],
   "source": []
  },
  {
   "cell_type": "code",
   "execution_count": null,
   "id": "357e7241-4598-42d5-ab3d-55e57cd57b09",
   "metadata": {},
   "outputs": [],
   "source": []
  },
  {
   "cell_type": "code",
   "execution_count": 14,
   "id": "24aec731-4219-42bf-a48b-afcefc4a00de",
   "metadata": {},
   "outputs": [
    {
     "data": {
      "text/plain": [
       "array([0., 0., 0., ..., 0., 0., 0.], dtype=float32)"
      ]
     },
     "execution_count": 14,
     "metadata": {},
     "output_type": "execute_result"
    }
   ],
   "source": [
    "clon.values"
   ]
  },
  {
   "cell_type": "code",
   "execution_count": null,
   "id": "bedace5e-b515-4d92-8699-7f40aae0028d",
   "metadata": {},
   "outputs": [],
   "source": []
  },
  {
   "cell_type": "code",
   "execution_count": 10,
   "id": "94d0ae22-b54a-46aa-9132-c6ecfbde84f2",
   "metadata": {},
   "outputs": [],
   "source": [
    "clon_rad = topo['clon']                # center longitude  / rad\n",
    "clat_rad = topo['clat']                # center latitutde  / rad\n",
    "\n",
    "# convert to degrees\n",
    "clon = np.rad2deg( clon_rad )\n",
    "clat = np.rad2deg( clat_rad )\n",
    "\n",
    "# read surface height\n",
    "h    = topo['topography_c']  "
   ]
  },
  {
   "cell_type": "code",
   "execution_count": 12,
   "id": "67660fc1-38dd-44dc-a593-e2e5fd637054",
   "metadata": {},
   "outputs": [
    {
     "ename": "ValueError",
     "evalue": "x and y arrays must consist of at least 3 unique points",
     "output_type": "error",
     "traceback": [
      "\u001b[0;31m---------------------------------------------------------------------------\u001b[0m",
      "\u001b[0;31mValueError\u001b[0m                                Traceback (most recent call last)",
      "Cell \u001b[0;32mIn[12], line 6\u001b[0m\n\u001b[1;32m      3\u001b[0m \u001b[38;5;66;03m# this is our map projection\u001b[39;00m\n\u001b[1;32m      4\u001b[0m ax \u001b[38;5;241m=\u001b[39m plt\u001b[38;5;241m.\u001b[39maxes(projection \u001b[38;5;241m=\u001b[39m ccrs\u001b[38;5;241m.\u001b[39mPlateCarree())\n\u001b[0;32m----> 6\u001b[0m \u001b[43mplt\u001b[49m\u001b[38;5;241;43m.\u001b[39;49m\u001b[43mtricontourf\u001b[49m\u001b[43m(\u001b[49m\u001b[43m \u001b[49m\u001b[43mclon\u001b[49m\u001b[43m,\u001b[49m\u001b[43m \u001b[49m\u001b[43mclat\u001b[49m\u001b[43m,\u001b[49m\u001b[43m \u001b[49m\u001b[43mh\u001b[49m\u001b[43m,\u001b[49m\u001b[43m \u001b[49m\u001b[43mlevels\u001b[49m\u001b[43m \u001b[49m\u001b[38;5;241;43m=\u001b[39;49m\u001b[43m \u001b[49m\u001b[38;5;241;43m20\u001b[39;49m\u001b[43m,\u001b[49m\u001b[43m \u001b[49m\u001b[43mcmap\u001b[49m\u001b[43m \u001b[49m\u001b[38;5;241;43m=\u001b[39;49m\u001b[43m \u001b[49m\u001b[43mplt\u001b[49m\u001b[38;5;241;43m.\u001b[39;49m\u001b[43mcm\u001b[49m\u001b[38;5;241;43m.\u001b[39;49m\u001b[43mgist_earth\u001b[49m\u001b[43m,\u001b[49m\u001b[43m \u001b[49m\u001b[43mvmin\u001b[49m\u001b[43m \u001b[49m\u001b[38;5;241;43m=\u001b[39;49m\u001b[43m \u001b[49m\u001b[38;5;241;43m-\u001b[39;49m\u001b[38;5;241;43m800\u001b[39;49m\u001b[43m,\u001b[49m\u001b[43m \u001b[49m\u001b[43mvmax\u001b[49m\u001b[43m \u001b[49m\u001b[38;5;241;43m=\u001b[39;49m\u001b[43m \u001b[49m\u001b[38;5;241;43m1200.\u001b[39;49m\u001b[43m)\u001b[49m\n\u001b[1;32m      8\u001b[0m \u001b[38;5;66;03m# and here we draw country borders\u001b[39;00m\n\u001b[1;32m      9\u001b[0m ax\u001b[38;5;241m.\u001b[39madd_feature(cfeature\u001b[38;5;241m.\u001b[39mBORDERS\u001b[38;5;241m.\u001b[39mwith_scale(\u001b[38;5;124m'\u001b[39m\u001b[38;5;124m50m\u001b[39m\u001b[38;5;124m'\u001b[39m), linewidth \u001b[38;5;241m=\u001b[39m \u001b[38;5;241m2\u001b[39m)\n",
      "File \u001b[0;32m/srv/conda3/envs/py39-cartopy/lib/python3.9/site-packages/matplotlib/pyplot.py:3016\u001b[0m, in \u001b[0;36mtricontourf\u001b[0;34m(*args, **kwargs)\u001b[0m\n\u001b[1;32m   3014\u001b[0m \u001b[38;5;129m@_copy_docstring_and_deprecators\u001b[39m(Axes\u001b[38;5;241m.\u001b[39mtricontourf)\n\u001b[1;32m   3015\u001b[0m \u001b[38;5;28;01mdef\u001b[39;00m \u001b[38;5;21mtricontourf\u001b[39m(\u001b[38;5;241m*\u001b[39margs, \u001b[38;5;241m*\u001b[39m\u001b[38;5;241m*\u001b[39mkwargs):\n\u001b[0;32m-> 3016\u001b[0m     __ret \u001b[38;5;241m=\u001b[39m \u001b[43mgca\u001b[49m\u001b[43m(\u001b[49m\u001b[43m)\u001b[49m\u001b[38;5;241;43m.\u001b[39;49m\u001b[43mtricontourf\u001b[49m\u001b[43m(\u001b[49m\u001b[38;5;241;43m*\u001b[39;49m\u001b[43margs\u001b[49m\u001b[43m,\u001b[49m\u001b[43m \u001b[49m\u001b[38;5;241;43m*\u001b[39;49m\u001b[38;5;241;43m*\u001b[39;49m\u001b[43mkwargs\u001b[49m\u001b[43m)\u001b[49m\n\u001b[1;32m   3017\u001b[0m     \u001b[38;5;28;01mif\u001b[39;00m __ret\u001b[38;5;241m.\u001b[39m_A \u001b[38;5;129;01mis\u001b[39;00m \u001b[38;5;129;01mnot\u001b[39;00m \u001b[38;5;28;01mNone\u001b[39;00m: sci(__ret)  \u001b[38;5;66;03m# noqa\u001b[39;00m\n\u001b[1;32m   3018\u001b[0m     \u001b[38;5;28;01mreturn\u001b[39;00m __ret\n",
      "File \u001b[0;32m/srv/conda3/envs/py39-cartopy/lib/python3.9/site-packages/matplotlib/tri/_tricontour.py:272\u001b[0m, in \u001b[0;36mtricontourf\u001b[0;34m(ax, *args, **kwargs)\u001b[0m\n\u001b[1;32m    252\u001b[0m \u001b[38;5;250m\u001b[39m\u001b[38;5;124;03m\"\"\"\u001b[39;00m\n\u001b[1;32m    253\u001b[0m \u001b[38;5;124;03m%(_tricontour_doc)s\u001b[39;00m\n\u001b[1;32m    254\u001b[0m \n\u001b[0;32m   (...)\u001b[0m\n\u001b[1;32m    269\u001b[0m \u001b[38;5;124;03mincludes the lowest value).\u001b[39;00m\n\u001b[1;32m    270\u001b[0m \u001b[38;5;124;03m\"\"\"\u001b[39;00m\n\u001b[1;32m    271\u001b[0m kwargs[\u001b[38;5;124m'\u001b[39m\u001b[38;5;124mfilled\u001b[39m\u001b[38;5;124m'\u001b[39m] \u001b[38;5;241m=\u001b[39m \u001b[38;5;28;01mTrue\u001b[39;00m\n\u001b[0;32m--> 272\u001b[0m \u001b[38;5;28;01mreturn\u001b[39;00m \u001b[43mTriContourSet\u001b[49m\u001b[43m(\u001b[49m\u001b[43max\u001b[49m\u001b[43m,\u001b[49m\u001b[43m \u001b[49m\u001b[38;5;241;43m*\u001b[39;49m\u001b[43margs\u001b[49m\u001b[43m,\u001b[49m\u001b[43m \u001b[49m\u001b[38;5;241;43m*\u001b[39;49m\u001b[38;5;241;43m*\u001b[39;49m\u001b[43mkwargs\u001b[49m\u001b[43m)\u001b[49m\n",
      "File \u001b[0;32m/srv/conda3/envs/py39-cartopy/lib/python3.9/site-packages/matplotlib/tri/_tricontour.py:29\u001b[0m, in \u001b[0;36mTriContourSet.__init__\u001b[0;34m(self, ax, *args, **kwargs)\u001b[0m\n\u001b[1;32m     19\u001b[0m \u001b[38;5;28;01mdef\u001b[39;00m \u001b[38;5;21m__init__\u001b[39m(\u001b[38;5;28mself\u001b[39m, ax, \u001b[38;5;241m*\u001b[39margs, \u001b[38;5;241m*\u001b[39m\u001b[38;5;241m*\u001b[39mkwargs):\n\u001b[1;32m     20\u001b[0m \u001b[38;5;250m    \u001b[39m\u001b[38;5;124;03m\"\"\"\u001b[39;00m\n\u001b[1;32m     21\u001b[0m \u001b[38;5;124;03m    Draw triangular grid contour lines or filled regions,\u001b[39;00m\n\u001b[1;32m     22\u001b[0m \u001b[38;5;124;03m    depending on whether keyword arg *filled* is False\u001b[39;00m\n\u001b[0;32m   (...)\u001b[0m\n\u001b[1;32m     27\u001b[0m \u001b[38;5;124;03m    are described in the docstring of `~.Axes.tricontour`.\u001b[39;00m\n\u001b[1;32m     28\u001b[0m \u001b[38;5;124;03m    \"\"\"\u001b[39;00m\n\u001b[0;32m---> 29\u001b[0m     \u001b[38;5;28;43msuper\u001b[39;49m\u001b[43m(\u001b[49m\u001b[43m)\u001b[49m\u001b[38;5;241;43m.\u001b[39;49m\u001b[38;5;21;43m__init__\u001b[39;49m\u001b[43m(\u001b[49m\u001b[43max\u001b[49m\u001b[43m,\u001b[49m\u001b[43m \u001b[49m\u001b[38;5;241;43m*\u001b[39;49m\u001b[43margs\u001b[49m\u001b[43m,\u001b[49m\u001b[43m \u001b[49m\u001b[38;5;241;43m*\u001b[39;49m\u001b[38;5;241;43m*\u001b[39;49m\u001b[43mkwargs\u001b[49m\u001b[43m)\u001b[49m\n",
      "File \u001b[0;32m/srv/conda3/envs/py39-cartopy/lib/python3.9/site-packages/matplotlib/contour.py:769\u001b[0m, in \u001b[0;36mContourSet.__init__\u001b[0;34m(self, ax, levels, filled, linewidths, linestyles, hatches, alpha, origin, extent, cmap, colors, norm, vmin, vmax, extend, antialiased, nchunk, locator, transform, negative_linestyles, *args, **kwargs)\u001b[0m\n\u001b[1;32m    765\u001b[0m \u001b[38;5;28;01mif\u001b[39;00m \u001b[38;5;28mself\u001b[39m\u001b[38;5;241m.\u001b[39mnegative_linestyles \u001b[38;5;129;01mis\u001b[39;00m \u001b[38;5;28;01mNone\u001b[39;00m:\n\u001b[1;32m    766\u001b[0m     \u001b[38;5;28mself\u001b[39m\u001b[38;5;241m.\u001b[39mnegative_linestyles \u001b[38;5;241m=\u001b[39m \\\n\u001b[1;32m    767\u001b[0m         mpl\u001b[38;5;241m.\u001b[39mrcParams[\u001b[38;5;124m'\u001b[39m\u001b[38;5;124mcontour.negative_linestyle\u001b[39m\u001b[38;5;124m'\u001b[39m]\n\u001b[0;32m--> 769\u001b[0m kwargs \u001b[38;5;241m=\u001b[39m \u001b[38;5;28;43mself\u001b[39;49m\u001b[38;5;241;43m.\u001b[39;49m\u001b[43m_process_args\u001b[49m\u001b[43m(\u001b[49m\u001b[38;5;241;43m*\u001b[39;49m\u001b[43margs\u001b[49m\u001b[43m,\u001b[49m\u001b[43m \u001b[49m\u001b[38;5;241;43m*\u001b[39;49m\u001b[38;5;241;43m*\u001b[39;49m\u001b[43mkwargs\u001b[49m\u001b[43m)\u001b[49m\n\u001b[1;32m    770\u001b[0m \u001b[38;5;28mself\u001b[39m\u001b[38;5;241m.\u001b[39m_process_levels()\n\u001b[1;32m    772\u001b[0m \u001b[38;5;28mself\u001b[39m\u001b[38;5;241m.\u001b[39m_extend_min \u001b[38;5;241m=\u001b[39m \u001b[38;5;28mself\u001b[39m\u001b[38;5;241m.\u001b[39mextend \u001b[38;5;129;01min\u001b[39;00m [\u001b[38;5;124m'\u001b[39m\u001b[38;5;124mmin\u001b[39m\u001b[38;5;124m'\u001b[39m, \u001b[38;5;124m'\u001b[39m\u001b[38;5;124mboth\u001b[39m\u001b[38;5;124m'\u001b[39m]\n",
      "File \u001b[0;32m/srv/conda3/envs/py39-cartopy/lib/python3.9/site-packages/matplotlib/tri/_tricontour.py:45\u001b[0m, in \u001b[0;36mTriContourSet._process_args\u001b[0;34m(self, *args, **kwargs)\u001b[0m\n\u001b[1;32m     43\u001b[0m \u001b[38;5;28;01melse\u001b[39;00m:\n\u001b[1;32m     44\u001b[0m     \u001b[38;5;28;01mfrom\u001b[39;00m \u001b[38;5;21;01mmatplotlib\u001b[39;00m \u001b[38;5;28;01mimport\u001b[39;00m _tri\n\u001b[0;32m---> 45\u001b[0m     tri, z \u001b[38;5;241m=\u001b[39m \u001b[38;5;28;43mself\u001b[39;49m\u001b[38;5;241;43m.\u001b[39;49m\u001b[43m_contour_args\u001b[49m\u001b[43m(\u001b[49m\u001b[43margs\u001b[49m\u001b[43m,\u001b[49m\u001b[43m \u001b[49m\u001b[43mkwargs\u001b[49m\u001b[43m)\u001b[49m\n\u001b[1;32m     46\u001b[0m     C \u001b[38;5;241m=\u001b[39m _tri\u001b[38;5;241m.\u001b[39mTriContourGenerator(tri\u001b[38;5;241m.\u001b[39mget_cpp_triangulation(), z)\n\u001b[1;32m     47\u001b[0m     \u001b[38;5;28mself\u001b[39m\u001b[38;5;241m.\u001b[39m_mins \u001b[38;5;241m=\u001b[39m [tri\u001b[38;5;241m.\u001b[39mx\u001b[38;5;241m.\u001b[39mmin(), tri\u001b[38;5;241m.\u001b[39my\u001b[38;5;241m.\u001b[39mmin()]\n",
      "File \u001b[0;32m/srv/conda3/envs/py39-cartopy/lib/python3.9/site-packages/matplotlib/tri/_tricontour.py:54\u001b[0m, in \u001b[0;36mTriContourSet._contour_args\u001b[0;34m(self, args, kwargs)\u001b[0m\n\u001b[1;32m     53\u001b[0m \u001b[38;5;28;01mdef\u001b[39;00m \u001b[38;5;21m_contour_args\u001b[39m(\u001b[38;5;28mself\u001b[39m, args, kwargs):\n\u001b[0;32m---> 54\u001b[0m     tri, args, kwargs \u001b[38;5;241m=\u001b[39m \u001b[43mTriangulation\u001b[49m\u001b[38;5;241;43m.\u001b[39;49m\u001b[43mget_from_args_and_kwargs\u001b[49m\u001b[43m(\u001b[49m\u001b[38;5;241;43m*\u001b[39;49m\u001b[43margs\u001b[49m\u001b[43m,\u001b[49m\n\u001b[1;32m     55\u001b[0m \u001b[43m                                                               \u001b[49m\u001b[38;5;241;43m*\u001b[39;49m\u001b[38;5;241;43m*\u001b[39;49m\u001b[43mkwargs\u001b[49m\u001b[43m)\u001b[49m\n\u001b[1;32m     56\u001b[0m     z, \u001b[38;5;241m*\u001b[39margs \u001b[38;5;241m=\u001b[39m args\n\u001b[1;32m     57\u001b[0m     z \u001b[38;5;241m=\u001b[39m np\u001b[38;5;241m.\u001b[39mma\u001b[38;5;241m.\u001b[39masarray(z)\n",
      "File \u001b[0;32m/srv/conda3/envs/py39-cartopy/lib/python3.9/site-packages/matplotlib/tri/_triangulation.py:167\u001b[0m, in \u001b[0;36mTriangulation.get_from_args_and_kwargs\u001b[0;34m(*args, **kwargs)\u001b[0m\n\u001b[1;32m    164\u001b[0m \u001b[38;5;28;01melse\u001b[39;00m:\n\u001b[1;32m    165\u001b[0m     x, y, triangles, mask, args, kwargs \u001b[38;5;241m=\u001b[39m \\\n\u001b[1;32m    166\u001b[0m         Triangulation\u001b[38;5;241m.\u001b[39m_extract_triangulation_params(args, kwargs)\n\u001b[0;32m--> 167\u001b[0m     triangulation \u001b[38;5;241m=\u001b[39m \u001b[43mTriangulation\u001b[49m\u001b[43m(\u001b[49m\u001b[43mx\u001b[49m\u001b[43m,\u001b[49m\u001b[43m \u001b[49m\u001b[43my\u001b[49m\u001b[43m,\u001b[49m\u001b[43m \u001b[49m\u001b[43mtriangles\u001b[49m\u001b[43m,\u001b[49m\u001b[43m \u001b[49m\u001b[43mmask\u001b[49m\u001b[43m)\u001b[49m\n\u001b[1;32m    168\u001b[0m \u001b[38;5;28;01mreturn\u001b[39;00m triangulation, args, kwargs\n",
      "File \u001b[0;32m/srv/conda3/envs/py39-cartopy/lib/python3.9/site-packages/matplotlib/tri/_triangulation.py:60\u001b[0m, in \u001b[0;36mTriangulation.__init__\u001b[0;34m(self, x, y, triangles, mask)\u001b[0m\n\u001b[1;32m     55\u001b[0m \u001b[38;5;28mself\u001b[39m\u001b[38;5;241m.\u001b[39mis_delaunay \u001b[38;5;241m=\u001b[39m \u001b[38;5;28;01mFalse\u001b[39;00m\n\u001b[1;32m     57\u001b[0m \u001b[38;5;28;01mif\u001b[39;00m triangles \u001b[38;5;129;01mis\u001b[39;00m \u001b[38;5;28;01mNone\u001b[39;00m:\n\u001b[1;32m     58\u001b[0m     \u001b[38;5;66;03m# No triangulation specified, so use matplotlib._qhull to obtain\u001b[39;00m\n\u001b[1;32m     59\u001b[0m     \u001b[38;5;66;03m# Delaunay triangulation.\u001b[39;00m\n\u001b[0;32m---> 60\u001b[0m     \u001b[38;5;28mself\u001b[39m\u001b[38;5;241m.\u001b[39mtriangles, \u001b[38;5;28mself\u001b[39m\u001b[38;5;241m.\u001b[39m_neighbors \u001b[38;5;241m=\u001b[39m \u001b[43m_qhull\u001b[49m\u001b[38;5;241;43m.\u001b[39;49m\u001b[43mdelaunay\u001b[49m\u001b[43m(\u001b[49m\u001b[43mx\u001b[49m\u001b[43m,\u001b[49m\u001b[43m \u001b[49m\u001b[43my\u001b[49m\u001b[43m,\u001b[49m\u001b[43m \u001b[49m\u001b[43msys\u001b[49m\u001b[38;5;241;43m.\u001b[39;49m\u001b[43mflags\u001b[49m\u001b[38;5;241;43m.\u001b[39;49m\u001b[43mverbose\u001b[49m\u001b[43m)\u001b[49m\n\u001b[1;32m     61\u001b[0m     \u001b[38;5;28mself\u001b[39m\u001b[38;5;241m.\u001b[39mis_delaunay \u001b[38;5;241m=\u001b[39m \u001b[38;5;28;01mTrue\u001b[39;00m\n\u001b[1;32m     62\u001b[0m \u001b[38;5;28;01melse\u001b[39;00m:\n\u001b[1;32m     63\u001b[0m     \u001b[38;5;66;03m# Triangulation specified. Copy, since we may correct triangle\u001b[39;00m\n\u001b[1;32m     64\u001b[0m     \u001b[38;5;66;03m# orientation.\u001b[39;00m\n",
      "\u001b[0;31mValueError\u001b[0m: x and y arrays must consist of at least 3 unique points"
     ]
    },
    {
     "data": {
      "image/png": "[encoded data removed]",
      "text/plain": [
       "<Figure size 1000x1000 with 1 Axes>"
      ]
     },
     "metadata": {},
     "output_type": "display_data"
    }
   ],
   "source": [
    "plt.figure( figsize = (10,10))\n",
    "\n",
    "# this is our map projection\n",
    "ax = plt.axes(projection = ccrs.PlateCarree())\n",
    "\n",
    "plt.tricontourf( clon, clat, h, levels = 20, cmap = plt.cm.gist_earth, vmin = -800, vmax = 1200.)\n",
    "\n",
    "# and here we draw country borders\n",
    "ax.add_feature(cfeature.BORDERS.with_scale('50m'), linewidth = 2)\n",
    "\n",
    "\n",
    "plt.title( 'ICON DOM01', fontweight = 'bold');"
   ]
  },
  {
   "cell_type": "code",
   "execution_count": null,
   "id": "863cf88e-d9a8-4b81-9fda-5e0d199f77b5",
   "metadata": {},
   "outputs": [],
   "source": []
  }
 ],
 "metadata": {
  "kernelspec": {
   "display_name": "py39-cartopy [conda env:py39-cartopy]",
   "language": "python",
   "name": "conda-env-py39-cartopy-py"
  },
  "language_info": {
   "codemirror_mode": {
    "name": "ipython",
    "version": 3
   },
   "file_extension": ".py",
   "mimetype": "text/x-python",
   "name": "python",
   "nbconvert_exporter": "python",
   "pygments_lexer": "ipython3",
   "version": "3.9.18"
  }
 },
 "nbformat": 4,
 "nbformat_minor": 5
}
