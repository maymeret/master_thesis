{
 "cells": [
  {
   "cell_type": "code",
   "execution_count": 1,
   "id": "7bdb6ad9-93b9-4bd0-9495-740240958209",
   "metadata": {},
   "outputs": [],
   "source": [
    "import matplotlib.pyplot as plt\n",
    "import numpy as np\n",
    "from netCDF4 import Dataset\n",
    "import matplotlib as mpl\n",
    "import matplotlib.tri as tri\n",
    "import datetime \n",
    "import time\n",
    "#import netcdftime\n",
    "import sys\n",
    "import glob\n",
    "import pandas as pd\n",
    "from matplotlib.colors import LinearSegmentedColormap\n",
    "import os\n",
    "from scipy.interpolate import griddata\n",
    "import csv\n",
    "#from mpl_toolkits.basemap import Basemap\n",
    "from scipy import interpolate\n",
    "import xarray as xr"
   ]
  },
  {
   "cell_type": "code",
   "execution_count": 2,
   "id": "2262f5ea-5a30-4929-9384-1cf65568bc42",
   "metadata": {},
   "outputs": [],
   "source": [
    "colors_orig = [ (103,0,31),(178,24,43),(214,96,77),(244,165,130),(253,219,199),(255,255,255),(209,229,240),(146,197,222),(67,147,195),(33,102,172),(5,48,97)]\n",
    "colorsm=[[a/255. for a in x] for x in colors_orig]\n",
    "div_color= LinearSegmentedColormap.from_list( 'div_color', colorsm, N=20)\n",
    "level=np.arange(-1,1.1,.1) #-.6,.5,.05)  #\n",
    "bounds=level.tolist()\n",
    "cmap = div_color\n",
    "cmaplist = [cmap(i) for i in range(cmap.N,0,-1)]\n",
    "cmap = mpl.colors.LinearSegmentedColormap.from_list('Custom cmap', cmaplist, cmap.N)\n",
    "norm = mpl.colors.BoundaryNorm(bounds, cmap.N)"
   ]
  },
  {
   "cell_type": "code",
   "execution_count": null,
   "id": "d53d044b-d6e7-4f06-a4cd-3ec4e3c592d1",
   "metadata": {},
   "outputs": [],
   "source": [
    "datafile = xr.open_dataset('../Masterarbeit/crosssection_data/fc_DOM01_0002_URB_temp_grid.nc')\n",
    "datafile = datafile.isel(height=slice(0, 60))\n",
    "t = datafile.variables['T'][0,:,:]"
   ]
  },
  {
   "cell_type": "code",
   "execution_count": 392,
   "id": "b65ee0c8-d7f5-4d95-9f22-7d864664194a",
   "metadata": {},
   "outputs": [],
   "source": [
    "res='c'\n",
    "lonc=8.\n",
    "latc=51.\n",
    "\n",
    "cor = xr.open_dataset('../Masterarbeit/crosssection_data/extpar_icon_grid_0026_R03B07_G.nc')\n",
    "luf = cor.variables['LU_CLASS_FRACTION'][:,:]\n",
    "topo = cor.variables['topography_c'][:]\n",
    "#map_lim_llon=0.\n",
    "#map_lim_llat=44.\n",
    "#map_lim_ulon=16.\n",
    "#map_lim_ulat=55.\n",
    "ind=1"
   ]
  },
  {
   "cell_type": "code",
   "execution_count": 393,
   "id": "f557a9c9-9dac-4f17-aadd-f2e87d27cfc8",
   "metadata": {},
   "outputs": [],
   "source": [
    "#centers\n",
    "#gridfile = xr.open_dataset(\"./gridfile.nc\")\n",
    "clons  = np.rad2deg(datafile.variables[\"clon\"])[::-1] \n",
    "clats  = np.rad2deg(datafile.variables[\"clat\"])[::-1] "
   ]
  },
  {
   "cell_type": "code",
   "execution_count": 378,
   "id": "87e0808e-e166-40b2-843a-ad7adfc8cb54",
   "metadata": {
    "scrolled": true
   },
   "outputs": [
    {
     "name": "stderr",
     "output_type": "stream",
     "text": [
      "/srv/conda3/envs/py39-cartopy/lib/python3.9/site-packages/xarray/coding/times.py:154: SerializationWarning: Ambiguous reference date string: 1-1-1 00:00:00. The first value is assumed to be the year hence will be padded with zeros to remove the ambiguity (the padded reference date string is: 0001-1-1 00:00:00). To remove this message, remove the ambiguity by padding your reference date strings with zeros.\n",
      "  warnings.warn(warning_msg, SerializationWarning)\n",
      "/srv/conda3/envs/py39-cartopy/lib/python3.9/site-packages/xarray/coding/times.py:724: SerializationWarning: Unable to decode time axis into full numpy.datetime64 objects, continuing using cftime.datetime objects instead, reason: dates out of range\n",
      "  dtype = _decode_cf_datetime_dtype(data, units, calendar, self.use_cftime)\n",
      "/srv/conda3/envs/py39-cartopy/lib/python3.9/site-packages/xarray/core/indexing.py:557: SerializationWarning: Unable to decode time axis into full numpy.datetime64 objects, continuing using cftime.datetime objects instead, reason: dates out of range\n",
      "  array = array.get_duck_array()\n"
     ]
    }
   ],
   "source": [
    "hhl_file = xr.open_dataset(\"../Masterarbeit/crosssection_data/hhl.nc\")\n",
    "hhl = hhl_file.variables[\"HHL\"][0,:,:]\n",
    "hhl_f = hhl\n",
    "### Full levels: because the levels are defined at half levels, it is corrected here\n",
    "for k in range(1,hhl.shape[0]):\n",
    "    hhl_f[k,:] = hhl[k,:] + (hhl[k,:]-hhl[k-1,:])/2\n"
   ]
  },
  {
   "cell_type": "code",
   "execution_count": 359,
   "id": "b2fe0b4f-6462-47ce-884f-e45b0ec219b6",
   "metadata": {},
   "outputs": [],
   "source": [
    "lar1 = 51\n",
    "lar2 = 53\n",
    "lor1 = 13\n",
    "lor2 = 13.2\n",
    "\n",
    "ind=[]\n",
    "for i in range(0,clons.shape[0]):\n",
    "    if ((clats[i]<lar2 and clats[i]>lar1) and (clons[i]>lor1 and clons[i]<lor2)): #find the indexes and select the values after\n",
    "        ind.append(i)"
   ]
  },
  {
   "cell_type": "code",
   "execution_count": 379,
   "id": "33d0bef9-7c99-4580-81f7-e941ee492727",
   "metadata": {},
   "outputs": [],
   "source": [
    "lo_i = 13\n",
    "la_i = 51\n",
    "lo_f = 13.2\n",
    "la_f = 53\n",
    "\n",
    "lo_line = np.linspace(lo_i,lo_f,60)\n",
    "la_line = np.linspace(la_i,la_f,60)\n",
    "cross_line = np.vstack(( np.linspace(lo_i,lo_f,60), np.linspace(la_i,la_f,60) )).T\n",
    "interp_method = 'cubic'\n",
    "c = []\n",
    "### Cross line as tuples\n",
    "for i in range(1,cross_line.shape[0]+1):\n",
    "    c.append(i)\n",
    "lons=clons[ind]\n",
    "lats=clats[ind]\n",
    "lons=lons\n",
    "i_c=np.vstack((lons,lats)).T"
   ]
  },
  {
   "cell_type": "code",
   "execution_count": 380,
   "id": "a29ecd88-037f-47d5-8377-635ce76a4f2f",
   "metadata": {},
   "outputs": [],
   "source": [
    "cross_val=np.zeros((hhl_f.shape[0]-1,len(cross_line)))\n",
    "cross_fl =np.zeros((hhl_f.shape[0]-1,len(cross_line)))\n",
    "cross_test =np.zeros((hhl_f.shape[0]-1,len(cross_line)))"
   ]
  },
  {
   "cell_type": "code",
   "execution_count": 362,
   "id": "e46b5bd0-636b-45c0-b6c5-184afeaa2855",
   "metadata": {},
   "outputs": [],
   "source": [
    "mesh = np.meshgrid(cross_line[0], cross_line[1])"
   ]
  },
  {
   "cell_type": "code",
   "execution_count": 395,
   "id": "55b47c86-1c40-4d05-8972-318597ea964a",
   "metadata": {
    "scrolled": true
   },
   "outputs": [
    {
     "ename": "IndexError",
     "evalue": "tuple index out of range",
     "output_type": "error",
     "traceback": [
      "\u001b[0;31m---------------------------------------------------------------------------\u001b[0m",
      "\u001b[0;31mIndexError\u001b[0m                                Traceback (most recent call last)",
      "Cell \u001b[0;32mIn[395], line 3\u001b[0m\n\u001b[1;32m      1\u001b[0m \u001b[38;5;66;03m# HORIZONTAL INTERPOLATION\u001b[39;00m\n\u001b[1;32m      2\u001b[0m \u001b[38;5;28;01mfor\u001b[39;00m i \u001b[38;5;129;01min\u001b[39;00m \u001b[38;5;28mrange\u001b[39m(t\u001b[38;5;241m.\u001b[39mshape[\u001b[38;5;241m0\u001b[39m]\u001b[38;5;241m-\u001b[39m\u001b[38;5;241m1\u001b[39m,\u001b[38;5;241m0\u001b[39m,\u001b[38;5;241m-\u001b[39m\u001b[38;5;241m1\u001b[39m):\n\u001b[0;32m----> 3\u001b[0m     hhlf_i \u001b[38;5;241m=\u001b[39m \u001b[43mgriddata\u001b[49m\u001b[43m(\u001b[49m\u001b[43mi_c\u001b[49m\u001b[43m,\u001b[49m\u001b[43mhhl_f\u001b[49m\u001b[43m[\u001b[49m\u001b[43mi\u001b[49m\u001b[43m,\u001b[49m\u001b[43mind\u001b[49m\u001b[43m]\u001b[49m\u001b[43m,\u001b[49m\u001b[43mcross_line\u001b[49m\u001b[43m,\u001b[49m\u001b[43mmethod\u001b[49m\u001b[38;5;241;43m=\u001b[39;49m\u001b[43minterp_method\u001b[49m\u001b[43m)\u001b[49m\n\u001b[1;32m      4\u001b[0m \u001b[38;5;66;03m#    print(i, hhlf_i)\u001b[39;00m\n\u001b[1;32m      5\u001b[0m     test \u001b[38;5;241m=\u001b[39m griddata(i_c,t[i,ind],cross_line,method\u001b[38;5;241m=\u001b[39minterp_method)\n",
      "File \u001b[0;32m/srv/conda3/envs/py39-cartopy/lib/python3.9/site-packages/scipy/interpolate/_ndgriddata.py:277\u001b[0m, in \u001b[0;36mgriddata\u001b[0;34m(points, values, xi, method, fill_value, rescale)\u001b[0m\n\u001b[1;32m    275\u001b[0m     \u001b[38;5;28;01mreturn\u001b[39;00m ip(xi)\n\u001b[1;32m    276\u001b[0m \u001b[38;5;28;01melif\u001b[39;00m method \u001b[38;5;241m==\u001b[39m \u001b[38;5;124m'\u001b[39m\u001b[38;5;124mcubic\u001b[39m\u001b[38;5;124m'\u001b[39m \u001b[38;5;129;01mand\u001b[39;00m ndim \u001b[38;5;241m==\u001b[39m \u001b[38;5;241m2\u001b[39m:\n\u001b[0;32m--> 277\u001b[0m     ip \u001b[38;5;241m=\u001b[39m \u001b[43mCloughTocher2DInterpolator\u001b[49m\u001b[43m(\u001b[49m\u001b[43mpoints\u001b[49m\u001b[43m,\u001b[49m\u001b[43m \u001b[49m\u001b[43mvalues\u001b[49m\u001b[43m,\u001b[49m\u001b[43m \u001b[49m\u001b[43mfill_value\u001b[49m\u001b[38;5;241;43m=\u001b[39;49m\u001b[43mfill_value\u001b[49m\u001b[43m,\u001b[49m\n\u001b[1;32m    278\u001b[0m \u001b[43m                                    \u001b[49m\u001b[43mrescale\u001b[49m\u001b[38;5;241;43m=\u001b[39;49m\u001b[43mrescale\u001b[49m\u001b[43m)\u001b[49m\n\u001b[1;32m    279\u001b[0m     \u001b[38;5;28;01mreturn\u001b[39;00m ip(xi)\n\u001b[1;32m    280\u001b[0m \u001b[38;5;28;01melse\u001b[39;00m:\n",
      "File \u001b[0;32minterpnd.pyx:912\u001b[0m, in \u001b[0;36mscipy.interpolate.interpnd.CloughTocher2DInterpolator.__init__\u001b[0;34m()\u001b[0m\n",
      "File \u001b[0;32minterpnd.pyx:79\u001b[0m, in \u001b[0;36mscipy.interpolate.interpnd.NDInterpolatorBase.__init__\u001b[0;34m()\u001b[0m\n",
      "File \u001b[0;32minterpnd.pyx:192\u001b[0m, in \u001b[0;36mscipy.interpolate.interpnd._check_init_shape\u001b[0;34m()\u001b[0m\n",
      "\u001b[0;31mIndexError\u001b[0m: tuple index out of range"
     ]
    }
   ],
   "source": [
    "# HORIZONTAL INTERPOLATION\n",
    "for i in range(t.shape[0]-1,0,-1):\n",
    "    hhlf_i = griddata(i_c,hhl_f[i,ind],cross_line,method=interp_method)\n",
    "#    print(i, hhlf_i)\n",
    "    test = griddata(i_c,t[i,ind],cross_line,method=interp_method)\n",
    "#    print(i,test)\n",
    "    val = test - np.nanmean(test)\n",
    "#    print(val)\n",
    "    cross_val[i,:] = val\n",
    "    cross_fl[i,:] = hhlf_i\n",
    "    cross_test[i,:] = c"
   ]
  },
  {
   "cell_type": "code",
   "execution_count": 388,
   "id": "bdd7ea43-482f-461a-8b65-a9f26460922b",
   "metadata": {},
   "outputs": [
    {
     "data": {
      "text/plain": [
       "array([0., 0., 0., 0., 0., 0., 0., 0., 0., 0., 0., 0., 0., 0., 0., 0., 0.,\n",
       "       0., 0., 0., 0., 0., 0., 0., 0., 0., 0., 0., 0., 0., 0., 0., 0., 0.,\n",
       "       0., 0., 0., 0., 0., 0., 0., 0., 0., 0., 0., 0., 0., 0., 0., 0., 0.,\n",
       "       0., 0., 0., 0., 0., 0., 0., 0., 0.])"
      ]
     },
     "execution_count": 388,
     "metadata": {},
     "output_type": "execute_result"
    }
   ],
   "source": [
    "cross_fl[50,:]"
   ]
  },
  {
   "cell_type": "code",
   "execution_count": 373,
   "id": "a77dbc69-d2ba-42b6-82b1-c5c4d7273282",
   "metadata": {},
   "outputs": [
    {
     "name": "stdout",
     "output_type": "stream",
     "text": [
      "[['13.00', '51.00'], ['13.00', '51.03'], ['13.01', '51.07'], ['13.01', '51.10'], ['13.01', '51.14'], ['13.02', '51.17'], ['13.02', '51.20'], ['13.02', '51.24'], ['13.03', '51.27'], ['13.03', '51.31'], ['13.03', '51.34'], ['13.04', '51.37'], ['13.04', '51.41'], ['13.04', '51.44'], ['13.05', '51.47'], ['13.05', '51.51'], ['13.05', '51.54'], ['13.06', '51.58'], ['13.06', '51.61'], ['13.06', '51.64'], ['13.07', '51.68'], ['13.07', '51.71'], ['13.07', '51.75'], ['13.08', '51.78'], ['13.08', '51.81'], ['13.08', '51.85'], ['13.09', '51.88'], ['13.09', '51.92'], ['13.09', '51.95'], ['13.10', '51.98'], ['13.10', '52.02'], ['13.11', '52.05'], ['13.11', '52.08'], ['13.11', '52.12'], ['13.12', '52.15'], ['13.12', '52.19'], ['13.12', '52.22'], ['13.13', '52.25'], ['13.13', '52.29'], ['13.13', '52.32'], ['13.14', '52.36'], ['13.14', '52.39'], ['13.14', '52.42'], ['13.15', '52.46'], ['13.15', '52.49'], ['13.15', '52.53'], ['13.16', '52.56'], ['13.16', '52.59'], ['13.16', '52.63'], ['13.17', '52.66'], ['13.17', '52.69'], ['13.17', '52.73'], ['13.18', '52.76'], ['13.18', '52.80'], ['13.18', '52.83'], ['13.19', '52.86'], ['13.19', '52.90'], ['13.19', '52.93'], ['13.20', '52.97'], ['13.20', '53.00']]\n"
     ]
    }
   ],
   "source": [
    "# VERTICAL INTERPOLATION\n",
    "#z = np.linespace\n",
    "x_labels = []\n",
    "cross_line_lab = np.vstack([ np.linspace(lo_i,lo_f,60), np.linspace(la_i,la_f,60) ]).T\n",
    "#for pair in cross_line:\n",
    "    #'{:.2f}'.format(pair[0])\n",
    "x_labels = [['{:.2f}'.format(pair[0]),'{:.2f}'.format(pair[1])] for pair in cross_line_lab]\n",
    "print(x_labels)"
   ]
  },
  {
   "cell_type": "code",
   "execution_count": 394,
   "id": "d904d1dd-508a-42e0-af6f-eaa44a1b1385",
   "metadata": {},
   "outputs": [
    {
     "ename": "IndexError",
     "evalue": "tuple index out of range",
     "output_type": "error",
     "traceback": [
      "\u001b[0;31m---------------------------------------------------------------------------\u001b[0m",
      "\u001b[0;31mIndexError\u001b[0m                                Traceback (most recent call last)",
      "Cell \u001b[0;32mIn[394], line 5\u001b[0m\n\u001b[1;32m      2\u001b[0m plt\u001b[38;5;241m.\u001b[39mcontourf(cross_test,cross_fl,cross_val,\u001b[38;5;241m20\u001b[39m,cmap\u001b[38;5;241m=\u001b[39mcmap)\n\u001b[1;32m      4\u001b[0m \u001b[38;5;66;03m## interp of invar fields:\u001b[39;00m\n\u001b[0;32m----> 5\u001b[0m topo_i \u001b[38;5;241m=\u001b[39m \u001b[43mgriddata\u001b[49m\u001b[43m(\u001b[49m\u001b[43mi_c\u001b[49m\u001b[43m,\u001b[49m\u001b[43mtopo\u001b[49m\u001b[43m[\u001b[49m\u001b[43mind\u001b[49m\u001b[43m]\u001b[49m\u001b[43m,\u001b[49m\u001b[43mcross_line\u001b[49m\u001b[43m,\u001b[49m\u001b[43mmethod\u001b[49m\u001b[38;5;241;43m=\u001b[39;49m\u001b[43minterp_method\u001b[49m\u001b[43m)\u001b[49m\n\u001b[1;32m      6\u001b[0m lu_i \u001b[38;5;241m=\u001b[39m griddata(i_c,luf[\u001b[38;5;241m18\u001b[39m,ind],cross_line,method\u001b[38;5;241m=\u001b[39minterp_method)\n\u001b[1;32m      8\u001b[0m plt\u001b[38;5;241m.\u001b[39mfill_between(c,\u001b[38;5;241m-\u001b[39m\u001b[38;5;241m5\u001b[39m,topo_i,color\u001b[38;5;241m=\u001b[39m\u001b[38;5;124m'\u001b[39m\u001b[38;5;124mk\u001b[39m\u001b[38;5;124m'\u001b[39m)\n",
      "File \u001b[0;32m/srv/conda3/envs/py39-cartopy/lib/python3.9/site-packages/scipy/interpolate/_ndgriddata.py:277\u001b[0m, in \u001b[0;36mgriddata\u001b[0;34m(points, values, xi, method, fill_value, rescale)\u001b[0m\n\u001b[1;32m    275\u001b[0m     \u001b[38;5;28;01mreturn\u001b[39;00m ip(xi)\n\u001b[1;32m    276\u001b[0m \u001b[38;5;28;01melif\u001b[39;00m method \u001b[38;5;241m==\u001b[39m \u001b[38;5;124m'\u001b[39m\u001b[38;5;124mcubic\u001b[39m\u001b[38;5;124m'\u001b[39m \u001b[38;5;129;01mand\u001b[39;00m ndim \u001b[38;5;241m==\u001b[39m \u001b[38;5;241m2\u001b[39m:\n\u001b[0;32m--> 277\u001b[0m     ip \u001b[38;5;241m=\u001b[39m \u001b[43mCloughTocher2DInterpolator\u001b[49m\u001b[43m(\u001b[49m\u001b[43mpoints\u001b[49m\u001b[43m,\u001b[49m\u001b[43m \u001b[49m\u001b[43mvalues\u001b[49m\u001b[43m,\u001b[49m\u001b[43m \u001b[49m\u001b[43mfill_value\u001b[49m\u001b[38;5;241;43m=\u001b[39;49m\u001b[43mfill_value\u001b[49m\u001b[43m,\u001b[49m\n\u001b[1;32m    278\u001b[0m \u001b[43m                                    \u001b[49m\u001b[43mrescale\u001b[49m\u001b[38;5;241;43m=\u001b[39;49m\u001b[43mrescale\u001b[49m\u001b[43m)\u001b[49m\n\u001b[1;32m    279\u001b[0m     \u001b[38;5;28;01mreturn\u001b[39;00m ip(xi)\n\u001b[1;32m    280\u001b[0m \u001b[38;5;28;01melse\u001b[39;00m:\n",
      "File \u001b[0;32minterpnd.pyx:912\u001b[0m, in \u001b[0;36mscipy.interpolate.interpnd.CloughTocher2DInterpolator.__init__\u001b[0;34m()\u001b[0m\n",
      "File \u001b[0;32minterpnd.pyx:79\u001b[0m, in \u001b[0;36mscipy.interpolate.interpnd.NDInterpolatorBase.__init__\u001b[0;34m()\u001b[0m\n",
      "File \u001b[0;32minterpnd.pyx:192\u001b[0m, in \u001b[0;36mscipy.interpolate.interpnd._check_init_shape\u001b[0;34m()\u001b[0m\n",
      "\u001b[0;31mIndexError\u001b[0m: tuple index out of range"
     ]
    },
    {
     "data": {
      "image/png": "[encoded data removed]",
      "text/plain": [
       "<Figure size 1000x1000 with 1 Axes>"
      ]
     },
     "metadata": {},
     "output_type": "display_data"
    }
   ],
   "source": [
    "fig, ax =plt.subplots( figsize=(10, 10))\n",
    "plt.contourf(cross_test,cross_fl,cross_val,20,cmap=cmap)\n",
    "\n",
    "## interp of invar fields:\n",
    "topo_i = griddata(i_c,topo[ind],cross_line,method=interp_method)\n",
    "lu_i = griddata(i_c,luf[18,ind],cross_line,method=interp_method)\n",
    "\n",
    "plt.fill_between(c,-5,topo_i,color='k')\n",
    "\n",
    "lu_urb = lu_i\n",
    "for i in range(0,lu_i.shape[0]):\n",
    "  if (lu_urb[i]<.7):\n",
    "      lu_urb[i]= np.nan\n",
    "  else:\n",
    "      lu_urb[i]=20\n",
    "plt.fill_between(c,-5,lu_urb,color='r')\n",
    "plt.ylim(15068.11000195,52630.90625)\n",
    "plt.xlim(30,30)\n",
    "plt.xticks(c[5::5],x_labels[5::5],rotation=45)\n",
    "plt.colorbar()\n",
    "plt.show()"
   ]
  },
  {
   "cell_type": "code",
   "execution_count": null,
   "id": "978fc1a6-751b-4ddc-be67-613b8bf05d73",
   "metadata": {},
   "outputs": [],
   "source": []
  },
  {
   "cell_type": "code",
   "execution_count": null,
   "id": "d77a7b6d-1e94-4140-9fd3-7ed0bf38c4c6",
   "metadata": {},
   "outputs": [],
   "source": []
  },
  {
   "cell_type": "code",
   "execution_count": null,
   "id": "abf42492-c8a4-4979-9f36-cd7e4e549d26",
   "metadata": {},
   "outputs": [],
   "source": []
  },
  {
   "cell_type": "code",
   "execution_count": null,
   "id": "c54c42f5-5263-4e8c-987a-265904cbc286",
   "metadata": {},
   "outputs": [],
   "source": []
  },
  {
   "cell_type": "code",
   "execution_count": null,
   "id": "d43366dd-930c-4230-9490-06e5693acda8",
   "metadata": {},
   "outputs": [],
   "source": []
  },
  {
   "cell_type": "code",
   "execution_count": null,
   "id": "35c36911-9a02-48a7-a62b-72a62669f23d",
   "metadata": {},
   "outputs": [],
   "source": []
  },
  {
   "cell_type": "code",
   "execution_count": null,
   "id": "fe290d03-86dd-4ef8-ad8c-9f4407c3606f",
   "metadata": {},
   "outputs": [],
   "source": []
  },
  {
   "cell_type": "code",
   "execution_count": null,
   "id": "7015ceca-ab9f-47bc-9c43-dfa4d6f44b24",
   "metadata": {},
   "outputs": [],
   "source": []
  }
 ],
 "metadata": {
  "kernelspec": {
   "display_name": "py39-cartopy [conda env:py39-cartopy]",
   "language": "python",
   "name": "conda-env-py39-cartopy-py"
  },
  "language_info": {
   "codemirror_mode": {
    "name": "ipython",
    "version": 3
   },
   "file_extension": ".py",
   "mimetype": "text/x-python",
   "name": "python",
   "nbconvert_exporter": "python",
   "pygments_lexer": "ipython3",
   "version": "3.9.18"
  }
 },
 "nbformat": 4,
 "nbformat_minor": 5
}
