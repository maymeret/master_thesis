{
 "cells": [
  {
   "cell_type": "code",
   "execution_count": 2,
   "id": "7bcfbc8f-4696-452d-b318-b37dff989d21",
   "metadata": {},
   "outputs": [],
   "source": [
    "import numpy as np\n",
    "import xarray as xr\n",
    "import matplotlib.pyplot as plt\n",
    "import matplotlib.dates as mdates\n",
    "import cartopy.crs as ccrs\n",
    "import cartopy.feature as cf\n",
    "import netCDF4\n",
    "import pandas as pd\n",
    "import datetime\n",
    "import pytz \n",
    "from tzwhere import tzwhere\n",
    "import math\n",
    "from suntime import Sun\n",
    "import scipy as sci\n",
    "from scipy import stats\n",
    "from scipy.stats import norm"
   ]
  },
  {
   "cell_type": "code",
   "execution_count": 226,
   "id": "6aa3f8f1-1bcd-40d7-ab5d-ab715c13ea11",
   "metadata": {},
   "outputs": [],
   "source": [
    "def get_data(len_data, NU_WU):  #len_data is the number of files i want to read in (e.g. 4 for 4h hourly data), NU_WU is a str and you can define if you want 'with urban' or 'no urban'\n",
    "    ds_data = {}  \n",
    "    for i in range(1, len_data + 1):\n",
    "        filename = f'../det_data_all_2021/fc_DOM01_0{i:03d}_{NU_WU}_urban_grid.nc'\n",
    "        try:\n",
    "            ds_data[i] = xr.open_dataset(filename)\n",
    "        except FileNotFoundError:\n",
    "            print(f'File not found: {filename}')\n",
    "        except Exception as e:\n",
    "            print(f'An error occurred while opening {filename}: {e}')\n",
    "    \n",
    "    return ds_data\n",
    "\n",
    "def get_data_nights(len_data, NU_WU):  #len_data is the number of files i want to read in (e.g. 4 for 4h hourly data), NU_WU is a str and you can define if you want 'with urban' or 'no urban'\n",
    "    ds_data = {}  \n",
    "    for i in range(1, len_data + 1):\n",
    "        filename = f'../det_data_nights_2021/fc_DOM01_0{i:03d}_{NU_WU}_urban_grid_nights.nc'\n",
    "        try:\n",
    "            ds_data[i] = xr.open_dataset(filename)\n",
    "        except FileNotFoundError:\n",
    "            print(f'File not found: {filename}')\n",
    "        except Exception as e:\n",
    "            print(f'An error occurred while opening {filename}: {e}')\n",
    "    \n",
    "    return ds_data\n",
    "\n",
    "def get_data_days(len_data, NU_WU):  #len_data is the number of files i want to read in (e.g. 4 for 4h hourly data), NU_WU is a str and you can define if you want 'with urban' or 'no urban'\n",
    "    ds_data = {}  \n",
    "    for i in range(1, len_data + 1):\n",
    "        filename = f'../det_data_day_2021/fc_DOM01_0{i:03d}_{NU_WU}_urban_grid_days.nc'\n",
    "        try:\n",
    "            ds_data[i] = xr.open_dataset(filename)\n",
    "        except FileNotFoundError:\n",
    "            print(f'File not found: {filename}')\n",
    "        except Exception as e:\n",
    "            print(f'An error occurred while opening {filename}: {e}')\n",
    "    \n",
    "    return ds_data\n",
    "\n",
    "def get_data_ens(len_data, NU_WU, mem):\n",
    "    ds_data = {}  \n",
    "    for i in range(1, len_data + 1):\n",
    "        filename = f'../ensemble_members_data_2021/{mem}/fc_DOM01_0{i:03d}_{mem}_{NU_WU}_urban_grid.nc'\n",
    "        try:\n",
    "            ds_data[i] = xr.open_dataset(filename)\n",
    "        except FileNotFoundError:\n",
    "            print(f'File not found: {filename}')\n",
    "        except Exception as e:\n",
    "            print(f'An error occurred while opening {filename}: {e}')\n",
    "    \n",
    "    return ds_data\n",
    "\n",
    "def prepare_sun(number_cities, data, file): #number of cities depends on input and % of landuse tiles, file defines in which hour you want to define since all hours are stored in one xarray dataset\n",
    "    sun = {}\n",
    "    for i in range(number_cities):\n",
    "        sun[i] = Sun(data[file].clat[i].to_numpy()*180/math.pi, data[file].clon[i].to_numpy()*180/math.pi)\n",
    "    \n",
    "    return sun\n",
    "\n",
    "def get_sunrise_sunset(number_cities, input_time, input_sun): #input_sun is the output of 'def prepare_sun'\n",
    "    sunrise = {}\n",
    "    sunset = {}\n",
    "    for i in range(number_cities):\n",
    "        sunrise[i] = input_sun[i].get_local_sunrise_time(input_time).time()\n",
    "        sunrise[i] = pytz.utc.localize(sunrise[i])\n",
    "    for i in range(number_cities):\n",
    "        sunset[i] = input_sun[i].get_local_sunset_time(input_time).time()\n",
    "        sunset[i] = pytz.utc.localize(sunset[i])\n",
    "    \n",
    "    return sunrise, sunset\n",
    "\n",
    "def binary_daynight(number_cities, sunrise, sunset, hour):  \n",
    "    time = datetime.time(hour)\n",
    "    time = pytz.utc.localize(time)\n",
    "    daynight = []\n",
    "    \n",
    "    for i in range(number_cities):\n",
    "        if (sunset[i] < sunrise[i] and sunset[i]<= time <= sunrise[i]) or (sunset[i] > sunrise[i] and (time > sunset[i] or time < sunrise[i])):\n",
    "            daynight.append('Night')\n",
    "        else:\n",
    "            daynight.append('Day')\n",
    "\n",
    "    return daynight\n",
    "\n",
    "def get_night(binary_data, data):\n",
    "    data_night = {}\n",
    "\n",
    "    for i, dataset in data.items():\n",
    "        dataset = dataset.expand_dims(dim={\"day_night\": binary_data})\n",
    "        \n",
    "        data_night[i] = dataset.where(dataset['day_night'] != 'Day')\n",
    "    \n",
    "    return data_night, dataset\n"
   ]
  },
  {
   "cell_type": "code",
   "execution_count": 227,
   "id": "ed3c61e1-6edd-4239-8a7d-12d39530a0b0",
   "metadata": {
    "scrolled": true
   },
   "outputs": [],
   "source": [
    "data_WU = get_data(120, 'URB')\n",
    "data_NU = get_data(120, 'NU') "
   ]
  },
  {
   "cell_type": "code",
   "execution_count": 228,
   "id": "d5123f6c-8855-4932-9a9a-3502082e38b1",
   "metadata": {
    "scrolled": true
   },
   "outputs": [],
   "source": [
    "data_WU_nights = get_data_nights(120, 'URB')\n",
    "data_NU_nights = get_data_nights(120, 'NU')"
   ]
  },
  {
   "cell_type": "code",
   "execution_count": 229,
   "id": "a9a9e93a-2fdb-4be8-af6d-964542fd49f1",
   "metadata": {
    "scrolled": true
   },
   "outputs": [],
   "source": [
    "data_WU_days = get_data_days(120, 'URB')\n",
    "data_NU_days = get_data_days(120, 'NU')"
   ]
  },
  {
   "cell_type": "code",
   "execution_count": 56,
   "id": "70ed952d-a6a1-463e-8400-6788dff84f31",
   "metadata": {
    "scrolled": true
   },
   "outputs": [],
   "source": [
    "# List of 40 mem values (adjust as needed)\n",
    "#mem_values = [f\"mem{i:03d}\" for i in range(1, 5)]\n",
    "\n",
    "# Dictionary to store results for each mem value\n",
    "#data_NU_mem = {}\n",
    "\n",
    "# Loop over mem values\n",
    "#for mem_value in mem_values:\n",
    "#    directory_name = f\"data_NU_{mem_value}\"  # Create a unique directory name\n",
    "#    data_NU_mem[directory_name] = get_data_ens(120, 'NU', mem_value)"
   ]
  },
  {
   "cell_type": "code",
   "execution_count": 230,
   "id": "8696f970-90ed-4694-aae5-498260d81357",
   "metadata": {
    "scrolled": true
   },
   "outputs": [],
   "source": [
    "#data_NU_mem001 = get_data_ens(120, 'NU', 'mem001') #loop thtough all the members"
   ]
  },
  {
   "cell_type": "code",
   "execution_count": 231,
   "id": "b078ca41-1383-4499-a3f1-a270ee32b298",
   "metadata": {
    "scrolled": true
   },
   "outputs": [],
   "source": [
    "#data_WU_mem001 = get_data_ens(120, 'URB', 'mem001') #loop through all the ensemble members "
   ]
  },
  {
   "cell_type": "code",
   "execution_count": 41,
   "id": "c7769bec-b70d-4c82-8ad4-2c9afcfa97f3",
   "metadata": {},
   "outputs": [],
   "source": [
    "ensem_WU = data_WU_mem001\n",
    "ensem_NU = data_NU_mem001"
   ]
  },
  {
   "cell_type": "code",
   "execution_count": 44,
   "id": "87b6c77d-857b-49c5-ab74-86fd4624b14b",
   "metadata": {},
   "outputs": [],
   "source": [
    "#prepare sun #convert radiant to lat lon \n",
    "\n",
    "sun_WU_ensem = {}\n",
    "sun_NU_ensem = {}\n",
    "\n",
    "for i in range(1, 121):\n",
    "    sun_WU_ensem[i] = prepare_sun(247, ensem_WU, i)\n",
    "    \n",
    "for i in range(1, 121):\n",
    "    sun_NU_ensem[i] = prepare_sun(247, ensem_NU, i)"
   ]
  },
  {
   "cell_type": "code",
   "execution_count": 45,
   "id": "b4edccf8-45e2-4b0a-9d4d-5af39a27a76a",
   "metadata": {},
   "outputs": [],
   "source": [
    "sunrise_WU = {}\n",
    "sunrise_NU = {}\n",
    "\n",
    "sunset_WU = {}\n",
    "sunset_NU = {}\n",
    "\n",
    "time_zone = datetime.date(2021,7,5)\n",
    "\n",
    "for i in range(1, 121):\n",
    "    sunrise_WU[i], sunset_WU[i] = get_sunrise_sunset(247, time_zone , sun_WU_ensem[i])\n",
    "\n",
    "for i in range(1,121):\n",
    "    sunrise_NU[i], sunset_NU[i] = get_sunrise_sunset(247, time_zone , sun_NU_ensem[i])"
   ]
  },
  {
   "cell_type": "code",
   "execution_count": 46,
   "id": "0fae7310-b348-480f-a806-b8af5d29feb6",
   "metadata": {},
   "outputs": [],
   "source": [
    "#create time_array for the hours because it is easier to calculate with. Added zero in the beginning because ICON output and Python have different indexing\n",
    "\n",
    "time_array = []\n",
    "\n",
    "for i in range(121):\n",
    "    time_array.append(i % 24)\n",
    "\n",
    "numbers_to_add = [0, 21, 22, 23]  # Numbers to add\n",
    "\n",
    "# Use the insert method to add numbers to the beginning of the array\n",
    "for num in reversed(numbers_to_add):\n",
    "    time_array.insert(0, num)"
   ]
  },
  {
   "cell_type": "code",
   "execution_count": 47,
   "id": "c1ba3fd0-5b6d-48b5-87f3-7e5862e088c8",
   "metadata": {},
   "outputs": [],
   "source": [
    "#corrected version. Before the intervall between sunset and sunrise was wrongly defined for hours. Can delete the first version but just in case \n",
    "\n",
    "daynight_WU = {}\n",
    "daynight_NU = {}\n",
    "\n",
    "#time_array = [0,21, 22, 23, 24, 1, 2]\n",
    "\n",
    "for i in range(1, 121):\n",
    "    j = time_array[i]\n",
    "    daynight_WU[i] = binary_daynight(247, sunrise_WU[i], sunset_WU[i], j)\n",
    "    \n",
    "for i in range(1, 121):\n",
    "    j = time_array[i]\n",
    "    daynight_NU[i] = binary_daynight(247, sunrise_NU[i], sunset_NU[i], j)"
   ]
  },
  {
   "cell_type": "markdown",
   "id": "c96d2e05-b123-437d-925c-1e1a070854eb",
   "metadata": {},
   "source": [
    "## from here on changes have to be made!"
   ]
  },
  {
   "cell_type": "code",
   "execution_count": 217,
   "id": "8088eb04-7049-4fa3-9f74-83bfc702fe35",
   "metadata": {},
   "outputs": [],
   "source": [
    "#Here the variable \"daynight\" is added to the original data_WU/NU dict/datasets\n",
    "\n",
    "data_variable = {}\n",
    "\n",
    "for i in range(1,121):\n",
    "    \n",
    "    data_variable[i] = xr.DataArray(daynight_WU[i], dims=('cell',), coords={'cell': data_WU_mem020[i]['cell']})\n",
    "    data_WU_mem020[i]['daynight'] = data_variable[i]\n",
    "\n",
    "# # for i in range(1,121):\n",
    "    \n",
    "#     data_variable[i] = xr.DataArray(daynight_NU[i], dims=('cell',), coords={'cell': data_NU_mem001[i]['cell']})\n",
    "#     data_NU_mem001[i]['daynight'] = data_variable[i]"
   ]
  },
  {
   "cell_type": "code",
   "execution_count": 218,
   "id": "801e4190-1b9b-41a8-9bfc-6113bb23a4d9",
   "metadata": {},
   "outputs": [],
   "source": [
    "night_cells_WU = {}\n",
    "#night_cells_NU = {}\n",
    "\n",
    "for i in range(1,121):\n",
    "    night_cells_WU[i] = data_WU_mem020[i].where(data_WU_mem020[i]['daynight'] == 'Night', drop=True)\n",
    "    \n",
    "# for i in range(1,121):\n",
    "#     night_cells_NU[i] = data_NU_mem001[i].where(data_NU_mem001[i]['daynight'] == 'Night', drop=True)"
   ]
  },
  {
   "cell_type": "code",
   "execution_count": 219,
   "id": "48727ad6-85e4-458e-98cd-f10b609dd3f4",
   "metadata": {},
   "outputs": [],
   "source": [
    "day_cells_WU = {}\n",
    "#day_cells_NU = {}\n",
    "\n",
    "for i in range(1,121):\n",
    "    if 'Day' in data_WU_mem020[i]['daynight'].values:\n",
    "        day_cells_WU[i] = data_WU_mem020[i].where(data_WU_mem020[i]['daynight'] == 'Day', drop=True)\n",
    "    \n",
    "# for i in range(1,121):\n",
    "#     if 'Day' in data_NU_mem001[i]['daynight'].values:\n",
    "#         day_cells_NU[i] = data_NU_mem001[i].where(data_NU_mem001[i]['daynight'] == 'Day', drop=True)"
   ]
  },
  {
   "cell_type": "code",
   "execution_count": 220,
   "id": "10a344a0-f424-4460-9bdc-d844ae4f1d1a",
   "metadata": {},
   "outputs": [],
   "source": [
    "# #and safe the new Day and Night Datsets so i don't have to do all of that at the beginning of each script \n",
    "\n",
    "# for i in range(1,121):\n",
    "#     path = f'../ensemble_members_nights_2021/mem003/fc_DOM01_0{i:03d}_mem003_NU_urban_grid_nights.nc'\n",
    "#     night_cells_NU[i].to_netcdf(path=path)"
   ]
  },
  {
   "cell_type": "code",
   "execution_count": 221,
   "id": "8cfe82f6-ae44-42db-b032-ce625c15c22f",
   "metadata": {},
   "outputs": [],
   "source": [
    "for i in range(1,121):\n",
    "    path = f'../ensemble_members_nights_2021/mem020/fc_DOM01_0{i:03d}_mem020_URB_urban_grid_nights.nc'\n",
    "    night_cells_WU[i].to_netcdf(path=path)"
   ]
  },
  {
   "cell_type": "code",
   "execution_count": 222,
   "id": "30e8a2aa-1df5-4a56-a3db-a5827057721f",
   "metadata": {},
   "outputs": [],
   "source": [
    "# for i in range(1,121):\n",
    "#     path = f'../ensemble_members_days_2021/mem001/fc_DOM01_0{i:03d}_mem001_NU_urban_grid_days.nc'\n",
    "#     day_cells_NU[i].to_netcdf(path=path)"
   ]
  },
  {
   "cell_type": "code",
   "execution_count": 223,
   "id": "b5182716-6bbf-408a-8962-cf4398f401af",
   "metadata": {},
   "outputs": [],
   "source": [
    "for i in range(1,121):\n",
    "    path = f'../ensemble_members_days_2021/mem020/fc_DOM01_0{i:03d}_mem020_URB_urban_grid_days.nc'\n",
    "    day_cells_WU[i].to_netcdf(path=path)"
   ]
  },
  {
   "cell_type": "code",
   "execution_count": null,
   "id": "a30fb2b3-01c9-4a22-a1ed-22a3a2d3243a",
   "metadata": {},
   "outputs": [],
   "source": []
  },
  {
   "cell_type": "code",
   "execution_count": null,
   "id": "fdbe090b-2dde-4db1-9972-76cf38f32b97",
   "metadata": {},
   "outputs": [],
   "source": []
  }
 ],
 "metadata": {
  "kernelspec": {
   "display_name": "py39-cartopy [conda env:py39-cartopy]",
   "language": "python",
   "name": "conda-env-py39-cartopy-py"
  },
  "language_info": {
   "codemirror_mode": {
    "name": "ipython",
    "version": 3
   },
   "file_extension": ".py",
   "mimetype": "text/x-python",
   "name": "python",
   "nbconvert_exporter": "python",
   "pygments_lexer": "ipython3",
   "version": "3.9.18"
  },
  "widgets": {
   "application/vnd.jupyter.widget-state+json": {
    "state": {},
    "version_major": 2,
    "version_minor": 0
   }
  }
 },
 "nbformat": 4,
 "nbformat_minor": 5
}
